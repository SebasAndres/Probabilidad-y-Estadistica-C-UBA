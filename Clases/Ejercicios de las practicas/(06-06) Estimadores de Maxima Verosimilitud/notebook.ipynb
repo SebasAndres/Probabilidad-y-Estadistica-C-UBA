{
 "cells": [
  {
   "cell_type": "code",
   "execution_count": 4,
   "metadata": {},
   "outputs": [
    {
     "name": "stdout",
     "output_type": "stream",
     "text": [
      "Defaulting to user installation because normal site-packages is not writeable\n",
      "Collecting seaborn\n",
      "  Using cached seaborn-0.12.2-py3-none-any.whl (293 kB)\n",
      "Requirement already satisfied: numpy!=1.24.0,>=1.17 in /usr/lib/python3/dist-packages (from seaborn) (1.21.5)\n",
      "Requirement already satisfied: pandas>=0.25 in /home/sebasandres/.local/lib/python3.10/site-packages (from seaborn) (2.0.1)\n",
      "Requirement already satisfied: matplotlib!=3.6.1,>=3.1 in /usr/lib/python3/dist-packages (from seaborn) (3.5.1)\n",
      "Requirement already satisfied: python-dateutil>=2.8.2 in /home/sebasandres/.local/lib/python3.10/site-packages (from pandas>=0.25->seaborn) (2.8.2)\n",
      "Requirement already satisfied: pytz>=2020.1 in /usr/lib/python3/dist-packages (from pandas>=0.25->seaborn) (2022.1)\n",
      "Requirement already satisfied: tzdata>=2022.1 in /home/sebasandres/.local/lib/python3.10/site-packages (from pandas>=0.25->seaborn) (2023.3)\n",
      "Requirement already satisfied: six>=1.5 in /usr/lib/python3/dist-packages (from python-dateutil>=2.8.2->pandas>=0.25->seaborn) (1.16.0)\n",
      "Installing collected packages: seaborn\n",
      "Successfully installed seaborn-0.12.2\n"
     ]
    }
   ],
   "source": [
    "!pip install seaborn"
   ]
  },
  {
   "cell_type": "code",
   "execution_count": 40,
   "metadata": {},
   "outputs": [],
   "source": [
    "import numpy as np\n",
    "from numpy import random\n",
    "import matplotlib.pyplot as plt\n",
    "import scipy.stats as stats\n",
    "import seaborn as sns"
   ]
  },
  {
   "attachments": {},
   "cell_type": "markdown",
   "metadata": {},
   "source": [
    "### Sea la distribucion que buscamos $Pareto(θ=2)$"
   ]
  },
  {
   "cell_type": "code",
   "execution_count": 42,
   "metadata": {},
   "outputs": [],
   "source": [
    "θ:int = 2\n",
    "muestra = random.pareto(a=θ, size=50)"
   ]
  },
  {
   "cell_type": "code",
   "execution_count": 53,
   "metadata": {},
   "outputs": [
    {
     "data": {
      "image/png": "[encoded data removed]",
      "text/plain": [
       "<Figure size 432x288 with 1 Axes>"
      ]
     },
     "metadata": {
      "needs_background": "light"
     },
     "output_type": "display_data"
    }
   ],
   "source": [
    "## vemos la distribucion perfecta\n",
    "def I2(X:np.ndarray) -> np.ndarray:\n",
    "    i2 = lambda x: (x >= 2 and 1) or 0 # identificadora\n",
    "    vfunc = np.vectorize(i2)\n",
    "    return vfunc(X)\n",
    "\n",
    "X = np.linspace(2, 15)\n",
    "Y = (θ*2**θ)/(X**(θ+1))*I2(X)\n",
    "\n",
    "plt.title(\"Pareto perfecta con θ=2\")\n",
    "plt.plot(X,Y)\n",
    "plt.show()"
   ]
  },
  {
   "attachments": {},
   "cell_type": "markdown",
   "metadata": {},
   "source": [
    "### Genero una muestra con la distribución dada ~ Teoria Generacion Numeros Aleatorios (teorica/clase_cambios_de_variable)"
   ]
  },
  {
   "cell_type": "code",
   "execution_count": 49,
   "metadata": {},
   "outputs": [
    {
     "data": {
      "image/png": "[encoded data removed]",
      "text/plain": [
       "<Figure size 432x288 with 1 Axes>"
      ]
     },
     "metadata": {
      "needs_background": "light"
     },
     "output_type": "display_data"
    }
   ],
   "source": [
    "cuantas_veces = 500\n",
    "U = stats.uniform.rvs(size=cuantas_veces)\n",
    "X = (θ*2**θ / U)**(1/(θ+1))\n",
    "hist = sns.histplot(data=X, stat='density', color='Orange', bins=50)"
   ]
  },
  {
   "attachments": {},
   "cell_type": "markdown",
   "metadata": {},
   "source": [
    "#### Nuestro estimador quedo $\\theta_{MV}$ ...\n",
    "\n",
    "$\\theta_{MV} = 1 / -(ln(2) - ln(\\prod_{i=1}^{n} X_i * I_{(2,+\\inf)(X_i)}))$"
   ]
  },
  {
   "cell_type": "code",
   "execution_count": 64,
   "metadata": {},
   "outputs": [],
   "source": [
    "def estimador_θMV(muestra:np.array) -> float:\n",
    "    g:float = 0\n",
    "    for x in muestra.flatten():\n",
    "        if x != 0:\n",
    "            g *= x \n",
    "    return 1 / (-np.log(2) - np.log(g))"
   ]
  },
  {
   "cell_type": "code",
   "execution_count": 65,
   "metadata": {},
   "outputs": [
    {
     "name": "stderr",
     "output_type": "stream",
     "text": [
      "/tmp/ipykernel_429720/3976442944.py:6: RuntimeWarning: divide by zero encountered in log\n",
      "  return 1 / (-np.log(2) - np.log(g))\n"
     ]
    },
    {
     "data": {
      "text/plain": [
       "0.0"
      ]
     },
     "execution_count": 65,
     "metadata": {},
     "output_type": "execute_result"
    }
   ],
   "source": [
    "estimador_θMV(muestra)"
   ]
  },
  {
   "attachments": {},
   "cell_type": "markdown",
   "metadata": {},
   "source": [
    "#### Encontrar error!"
   ]
  },
  {
   "cell_type": "code",
   "execution_count": null,
   "metadata": {},
   "outputs": [],
   "source": []
  }
 ],
 "metadata": {
  "kernelspec": {
   "display_name": "Python 3",
   "language": "python",
   "name": "python3"
  },
  "language_info": {
   "codemirror_mode": {
    "name": "ipython",
    "version": 3
   },
   "file_extension": ".py",
   "mimetype": "text/x-python",
   "name": "python",
   "nbconvert_exporter": "python",
   "pygments_lexer": "ipython3",
   "version": "3.10.6"
  },
  "orig_nbformat": 4
 },
 "nbformat": 4,
 "nbformat_minor": 2
}
