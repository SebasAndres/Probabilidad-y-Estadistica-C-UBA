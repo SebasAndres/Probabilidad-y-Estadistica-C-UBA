{
 "cells": [
  {
   "cell_type": "code",
   "execution_count": 74,
   "metadata": {},
   "outputs": [
    {
     "data": {
      "text/plain": [
       "1881.7900000000004"
      ]
     },
     "execution_count": 74,
     "metadata": {},
     "output_type": "execute_result"
    }
   ],
   "source": [
    "import numpy as np\n",
    "\n",
    "muestra = [176.50, 191.50, 186.90, 181.10, 195.70,\n",
    "            188.10, 187.40, 185.10, 176.90, 191.20,\n",
    "            193.80, 187.00, 179.00, 173.00, 184.40,\n",
    "            199.60, 190.40, 206.80, 193.00, 177.10,\n",
    "            201.00, 192.50, 176.60, 180.10, 186.40]\n",
    "\n",
    "media_muestral = np.mean(muestra)\n",
    "\n",
    "varianza_muestral = np.std(muestra, ddof=1)**2\n",
    "\n",
    "c = 0\n",
    "for x in muestra:\n",
    "    c += (x - 185)**2\n",
    "\n",
    "c"
   ]
  },
  {
   "attachments": {},
   "cell_type": "markdown",
   "metadata": {},
   "source": [
    "## Ejercicio 7"
   ]
  },
  {
   "attachments": {},
   "cell_type": "markdown",
   "metadata": {},
   "source": [
    "[a] Definir una funcion que, tenga por input un conjunto de datos $x = (x_1, . . . , x_n)$ provenientes de una distribucion normal y un nivel de confianza $1 − α$ y devuelva\n",
    "un intervalo de confianza de nivel $1 − α$ para la media de la normal de la que provienen los datos. ¿Como cambiaria la funcion si ahora queremos aplicarla a normales con varianza conocida? ¿Y si ahora queremos aplicarla a muestras grandes pero con distribucion desconocida?"
   ]
  },
  {
   "cell_type": "code",
   "execution_count": 60,
   "metadata": {},
   "outputs": [
    {
     "data": {
      "text/plain": [
       "(157.04397677833046, 217.44402322166948)"
      ]
     },
     "execution_count": 60,
     "metadata": {},
     "output_type": "execute_result"
    }
   ],
   "source": [
    "from scipy.stats import t, norm\n",
    "\n",
    "def intervalo_confianza_mu(muestra: list, confianza: float,\n",
    "                           varianza=None) -> tuple:\n",
    "\n",
    "    # Dada una muestra y un nivel de confianza, devuelve el intervalo de confianza\n",
    "    # para la media poblacional\n",
    "\n",
    "    media_muestral = np.mean(muestra)\n",
    "    varianza_muestral = np.std(muestra, ddof=1)**2\n",
    "    n = len(muestra)\n",
    "    alpha = 1 - confianza\n",
    "\n",
    "    if varianza == None:\n",
    "        # Caso media y varianza poblacional desconocidas\n",
    "        inferior = media_muestral - (abs(t.ppf(alpha/2, n-1)) * varianza_muestral / np.sqrt(n))\n",
    "        superior = media_muestral + (abs(t.ppf(alpha/2, n-1)) * varianza_muestral / np.sqrt(n))\n",
    "    else:\n",
    "        # Caso varianza conocida\n",
    "        inferior = media_muestral - (norm.ppf(alpha/2) * varianza / np.sqrt(n))\n",
    "        superior = media_muestral + (norm.ppf(alpha/2) * varianza / np.sqrt(n))\n",
    "\n",
    "    if inferior > superior:\n",
    "        # raise Exception(\"El intervalo de confianza no es valido\") \n",
    "        pass\n",
    "\n",
    "    return (inferior, superior)\n",
    "\n",
    "intervalo_confianza_mu(muestra, 0.95)"
   ]
  },
  {
   "cell_type": "code",
   "execution_count": 61,
   "metadata": {},
   "outputs": [
    {
     "data": {
      "text/plain": [
       "2.0930240544082634"
      ]
     },
     "execution_count": 61,
     "metadata": {},
     "output_type": "execute_result"
    }
   ],
   "source": [
    "abs(t.ppf(0.025, 19))"
   ]
  },
  {
   "attachments": {},
   "cell_type": "markdown",
   "metadata": {},
   "source": [
    "[b] Elegir un valor de $µ$ y un valor de $σ$. Generar $1000$ conjuntos de datos de $n$ valores cada uno con distribucion $N(µ, σ^2)$ y calcular intervalos de confianza para $µ$ asumiendo que $µ$ es desconocido y $σ$ es conocido. Repetir para diferentes valores de $n$ entre $3$ y $1000$. ¿Que proporcion de intervalos contiene al verdadero valor de $µ$?"
   ]
  },
  {
   "cell_type": "code",
   "execution_count": 72,
   "metadata": {},
   "outputs": [
    {
     "data": {
      "text/plain": [
       "0.95"
      ]
     },
     "execution_count": 72,
     "metadata": {},
     "output_type": "execute_result"
    }
   ],
   "source": [
    "# Datos que elegi para el ejercicio\n",
    "mu_0 = 0\n",
    "sigma_0 = 1\n",
    "n = 100\n",
    "\n",
    "# Confianza pedida\n",
    "confianza = 0.95\n",
    "\n",
    "X = [np.random.normal(mu_0, sigma_0**2, n) for x in range(1000)]\n",
    "ICs = [intervalo_confianza_mu(x, confianza) for x in X]\n",
    "\n",
    "s = 0\n",
    "for intervalo in ICs:\n",
    "    if intervalo[0] <= mu_0 <= intervalo[1]:\n",
    "        s += 1\n",
    "    pass\n",
    "\n",
    "proporcion = s / 1000 \n",
    "\n",
    "proporcion # ~ confianza = 0.95"
   ]
  },
  {
   "attachments": {},
   "cell_type": "markdown",
   "metadata": {},
   "source": [
    "Concluyo, la propocion tiende al nivel de confianza del intervalo."
   ]
  },
  {
   "attachments": {},
   "cell_type": "markdown",
   "metadata": {},
   "source": [
    "## Ejercicio 8"
   ]
  },
  {
   "cell_type": "code",
   "execution_count": 87,
   "metadata": {},
   "outputs": [
    {
     "data": {
      "text/plain": [
       "(0.012428424218326413, 0.03018551663012929)"
      ]
     },
     "execution_count": 87,
     "metadata": {},
     "output_type": "execute_result"
    }
   ],
   "source": [
    "# los datos vienen de la practica 7 - ejercicio 4. \n",
    "# X ~ Exp(lambda)\n",
    "\n",
    "from scipy.stats import chi2\n",
    "\n",
    "muestra = [39.08, 45.27, 26.27, 14.77, 65.84, 49.64, 0.80, 66.58, 69.60, 32.42, 228.36, 64.79, 9.38,\n",
    "           3.86, 37.18, 104.75, 3.64, 104.19, 8.17, 8.36]\n",
    "\n",
    "confianza = 0.95\n",
    "alpha = 1 - confianza\n",
    "n = len(muestra)\n",
    "\n",
    "inferior = chi2.ppf(alpha/2, 2*n) / (2*sum(muestra))\n",
    "superior = chi2.ppf(1-alpha/2, 2*n) / (2*sum(muestra)) \n",
    "\n",
    "(inferior, superior) # intervalo de confianza para lambda"
   ]
  },
  {
   "cell_type": "code",
   "execution_count": 88,
   "metadata": {},
   "outputs": [
    {
     "data": {
      "text/plain": [
       "0.020346914899028436"
      ]
     },
     "execution_count": 88,
     "metadata": {},
     "output_type": "execute_result"
    }
   ],
   "source": [
    "1 / np.mean(muestra) # estimacion de lambda por maxima verosimilitud"
   ]
  },
  {
   "attachments": {},
   "cell_type": "markdown",
   "metadata": {},
   "source": [
    "## Ejercicio 11 "
   ]
  },
  {
   "cell_type": "code",
   "execution_count": 120,
   "metadata": {},
   "outputs": [
    {
     "data": {
      "text/plain": [
       "(5.0007386920141785, 5.001561307985821)"
      ]
     },
     "execution_count": 120,
     "metadata": {},
     "output_type": "execute_result"
    }
   ],
   "source": [
    "# Intervalo de confianza de una Poisson \n",
    "from scipy.stats import poisson\n",
    "\n",
    "n = 20000\n",
    "alpha = 0.1\n",
    "muestra_poisson = poisson.rvs(mu=5, size=n)\n",
    "\n",
    "inferior = np.mean(muestra_poisson)*(1-abs(norm.ppf(alpha/2)/n))\n",
    "superior = np.mean(muestra_poisson)*(1+abs(norm.ppf(alpha/2)/n))\n",
    "\n",
    "(inferior, superior)"
   ]
  },
  {
   "attachments": {},
   "cell_type": "markdown",
   "metadata": {},
   "source": [
    "## Ejercicio 13"
   ]
  },
  {
   "cell_type": "code",
   "execution_count": 129,
   "metadata": {},
   "outputs": [
    {
     "data": {
      "text/plain": [
       "4.381371428571429"
      ]
     },
     "execution_count": 129,
     "metadata": {},
     "output_type": "execute_result"
    }
   ],
   "source": [
    "muestra_x1 = [0.44, -1.63, 2.59, 1.54, 0.45, -0.13, -2.76, -1.53]\n",
    "muestra_x2 = [0.06, -0.24, 4.65, 2.27, 3.88, 2.35, 3.92, -0.73]\n",
    "\n",
    "np.var(muestra_x2, ddof=1)"
   ]
  },
  {
   "cell_type": "code",
   "execution_count": 130,
   "metadata": {},
   "outputs": [
    {
     "data": {
      "text/plain": [
       "-1.9599639845400545"
      ]
     },
     "execution_count": 130,
     "metadata": {},
     "output_type": "execute_result"
    }
   ],
   "source": [
    "norm.ppf(0.025)"
   ]
  },
  {
   "cell_type": "code",
   "execution_count": 20,
   "metadata": {},
   "outputs": [
    {
     "name": "stderr",
     "output_type": "stream",
     "text": [
      "C:\\Users\\sebas\\AppData\\Local\\Temp/ipykernel_22364/2671417689.py:8: RuntimeWarning: divide by zero encountered in scalar divide\n",
      "  return 200*(0.135-x)/(math.sqrt(x*(1-x)))\n"
     ]
    },
    {
     "data": {
      "text/plain": [
       "[<matplotlib.lines.Line2D at 0x1ab22ba38b0>]"
      ]
     },
     "execution_count": 20,
     "metadata": {},
     "output_type": "execute_result"
    },
    {
     "data": {
      "image/png": "[encoded data removed]",
      "text/plain": [
       "<Figure size 432x288 with 1 Axes>"
      ]
     },
     "metadata": {
      "needs_background": "light"
     },
     "output_type": "display_data"
    }
   ],
   "source": [
    "import numpy as np\n",
    "import math\n",
    "import matplotlib.pyplot as plt\n",
    "\n",
    "X = np.linspace(0.3, 1, 1000)\n",
    "\n",
    "def k(x):\n",
    "    return 200*(0.135-x)/(math.sqrt(x*(1-x)))\n",
    "\n",
    "y = [k(x) for x in X]\n",
    "\n",
    "plt.plot(X,y)\n"
   ]
  },
  {
   "cell_type": "code",
   "execution_count": 25,
   "metadata": {},
   "outputs": [
    {
     "data": {
      "text/plain": [
       "1.7934630572937176e-21"
      ]
     },
     "execution_count": 25,
     "metadata": {},
     "output_type": "execute_result"
    }
   ],
   "source": [
    "from scipy.stats import norm\n",
    "\n",
    "norm.pdf(9.68)"
   ]
  },
  {
   "cell_type": "code",
   "execution_count": 27,
   "metadata": {},
   "outputs": [
    {
     "data": {
      "text/plain": [
       "9.713515375618702"
      ]
     },
     "execution_count": 27,
     "metadata": {},
     "output_type": "execute_result"
    }
   ],
   "source": [
    "d = [198,185,214,189,206,212,193,209,196,211,189,198,211,191,199]\n",
    "np.std(d, ddof=1)"
   ]
  },
  {
   "cell_type": "code",
   "execution_count": null,
   "metadata": {},
   "outputs": [],
   "source": []
  }
 ],
 "metadata": {
  "kernelspec": {
   "display_name": "Python 3",
   "language": "python",
   "name": "python3"
  },
  "language_info": {
   "codemirror_mode": {
    "name": "ipython",
    "version": 3
   },
   "file_extension": ".py",
   "mimetype": "text/x-python",
   "name": "python",
   "nbconvert_exporter": "python",
   "pygments_lexer": "ipython3",
   "version": "3.10.4"
  },
  "orig_nbformat": 4
 },
 "nbformat": 4,
 "nbformat_minor": 2
}
