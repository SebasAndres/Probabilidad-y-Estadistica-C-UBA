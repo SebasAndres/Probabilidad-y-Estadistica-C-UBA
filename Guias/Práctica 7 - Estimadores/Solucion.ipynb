{
 "cells": [
  {
   "cell_type": "code",
   "execution_count": 1,
   "metadata": {},
   "outputs": [],
   "source": [
    "import pandas as pd\n",
    "import numpy as np\n",
    "import scipy.stats as stats\n",
    "import matplotlib.pyplot as plt\n",
    "from tabulate import tabulate"
   ]
  },
  {
   "attachments": {},
   "cell_type": "markdown",
   "metadata": {},
   "source": [
    "## Ejercicio 1: Estimacion EASY (sin distribucion)\n",
    "\n",
    "Se analizaron 12 piezas de pan blanco de cierta marca elegidas al azar. Se determin ́o el porcentaje de carbohidratos contenido en cada una de las piezas, obteniendose los siguientes valores:\n",
    "\n",
    "- 76.93 76.88 77.07 76.68 76.39 75.09 77.67 76.88 78.15 76.50 77.16 76.42"
   ]
  },
  {
   "attachments": {},
   "cell_type": "markdown",
   "metadata": {},
   "source": [
    "[1.a] Estimar la esperanza del porcentaje de carbohidratos contenido en una pieza de pan de esta marca.\n",
    "\n",
    "$E(X) \\approx \\sum_{i=1}^n X_i/n$"
   ]
  },
  {
   "cell_type": "code",
   "execution_count": 3,
   "metadata": {},
   "outputs": [
    {
     "data": {
      "text/plain": [
       "76.81833333333333"
      ]
     },
     "execution_count": 3,
     "metadata": {},
     "output_type": "execute_result"
    }
   ],
   "source": [
    "muestra = np.array([76.93, 76.88, 77.07, 76.68, 76.39, 75.09, 77.67, 76.88, 78.15, 76.50, 77.16, 76.42])\n",
    "muestra.mean()"
   ]
  },
  {
   "attachments": {},
   "cell_type": "markdown",
   "metadata": {},
   "source": [
    "[1.b] Estimar la mediana del porcentaje de carbohidratos contenido en una pieza de pan de esta marca.\n",
    "\n",
    "$Med(X) \\approx \\frac{x^{(k)} + x^{(k+1)}}{2}$, con $k=2n$ y $n=len(muestra)=12$"
   ]
  },
  {
   "cell_type": "code",
   "execution_count": 4,
   "metadata": {},
   "outputs": [
    {
     "data": {
      "text/plain": [
       "76.88"
      ]
     },
     "execution_count": 4,
     "metadata": {},
     "output_type": "execute_result"
    }
   ],
   "source": [
    "np.median(muestra)"
   ]
  },
  {
   "attachments": {},
   "cell_type": "markdown",
   "metadata": {},
   "source": [
    "[1.c] Estimar la probabilidad de que el porcentaje de carbohidratos de una pieza de pan de esta marca no exceda el 76.5%.\n",
    "\n",
    "$P(X < 76,5) \\approx \\frac{len[X < 76,5]}{len[X]}$"
   ]
  },
  {
   "cell_type": "code",
   "execution_count": 5,
   "metadata": {},
   "outputs": [
    {
     "data": {
      "text/plain": [
       "0.3333333333333333"
      ]
     },
     "execution_count": 5,
     "metadata": {},
     "output_type": "execute_result"
    }
   ],
   "source": [
    "esMenor = lambda x: (x <= 76.5 and 1) or 0\n",
    "menores = list(filter(esMenor, muestra.flatten()))\n",
    "\n",
    "P = len(menores) / len(muestra)\n",
    "P "
   ]
  },
  {
   "attachments": {},
   "cell_type": "markdown",
   "metadata": {},
   "source": [
    "## Ejercicio 2: Estimadores de una normal\n",
    "\n",
    "Sea $X_1,...,X_n$ una muestra aleatoria de una distribucion $N(μ,σ^2)$. \n",
    "\n",
    "Obtener los estimadores de maxima verosimilitud (MV) de..."
   ]
  },
  {
   "attachments": {},
   "cell_type": "markdown",
   "metadata": {},
   "source": [
    "[2.a] $μ$, siendo $σ^2 = σ_0^2$ conocida.\n",
    "\n",
    "> Sea  $L(\\theta)$ la funcion de verosimilitud para la muestra $X$:<br>\n",
    "> $L(\\mu, \\sigma) = \\prod_{i=1}^n \\frac{1}{\\sqrt {2\\pi} \\theta} exp(-\\frac{1}{2}(\\frac{X_i - \\mu}{\\sigma})^2)$\n",
    "$= (\\frac{1}{\\sqrt(2\\pi)\\sigma})^n e^{-\\frac{1}{2}\\sum_{i=1}^n (\\frac{x_i - \\mu}{\\sigma})^2}$ <br>\n",
    "> Sea $l(\\theta) = ln(L(\\theta)) = n ln(\\frac{1}{\\sqrt(2\\pi)\\sigma}) - \\frac{1}{2} \\sum_{i=1}^n (\\frac{X_i - \\mu}{\\sigma})^2 $ <br>\n",
    "> Veo $\\frac{\\partial}{\\partial \\mu} l(\\theta) = \\frac{1}{\\theta^2} \\sum_{i=1}^{n} X_i - \\frac{n\\mu}{\\theta^2} = 0$\n",
    "$\\leftrightarrow \\mu = \\frac{\\sum_{i=1}^n X_i}{n}$\n",
    "> Entonces $\\hat \\mu_{MV} = \\frac{\\sum_{i=1}^n X_i}{n}$"
   ]
  },
  {
   "attachments": {},
   "cell_type": "markdown",
   "metadata": {},
   "source": [
    "[2.b] $σ^2$, siendo $μ = μ_0$ conocida.\n",
    "\n",
    "> Dijimos que $l(\\mu, \\theta) = nln(1) - nln(\\sqrt{2\\pi}) - nln(\\theta)-\\frac{1}{2}\\sum_{i=1}^n (\\frac{X_i - \\mu}{\\sigma})^2$; <br>\n",
    "> Luego ahora optimizo la eleccion de $\\theta$ para maximizar $l(\\mu, \\theta)$: <br>\n",
    "> Veo $\\frac{\\partial}{\\partial \\theta} l(\\theta) = -\\frac{n}{\\theta} + \\frac{1}{\\theta^3} \\sum_{i=1}^n (X_i - \\mu)^2 = 0 \\leftrightarrow -n\\theta^2 + \\sum_{i=1}^n (X_i - \\mu)^2 = 0$ <br>\n",
    "> $\\rightarrow \\theta_{MV}^2 = \\frac{1}{n} \\sum_{i=1}^n (X_i - \\mu)^2$ "
   ]
  },
  {
   "attachments": {},
   "cell_type": "markdown",
   "metadata": {},
   "source": [
    "[2.c] el par (μ,σ2) simultaneamente\n",
    "\n",
    "(Pasar del cuaderno)"
   ]
  },
  {
   "attachments": {},
   "cell_type": "markdown",
   "metadata": {},
   "source": [
    "## Ejercicio 3: Estimadores de Normal\n",
    "\n",
    "[3.a]\n",
    "\n",
    "Una maquina envasa caramelos, siendo el peso neto (en gramos) de cada bolsa una v.a. con distribucion normal. Los siguientes datos corresponden al peso de 15 bolsas elegidas al azar:\n",
    "\n",
    "* $210, 197, 187, 217, 194, 208, 220, 199, 193, 203, 181, 212, 188, 196, 185$\n",
    "\n",
    "Usando el metodo de MV, indique el valor estimado de la media y la varianza del peso neto de cada bolsa de caramelos envasada por esta maquina."
   ]
  },
  {
   "cell_type": "code",
   "execution_count": 6,
   "metadata": {},
   "outputs": [],
   "source": [
    "def estimador_media(muestra:np.array) -> float:\n",
    "    return muestra.mean()\n",
    "\n",
    "def estimador_varianza(muestra:np.array, mu:float) -> float:\n",
    "    n:int = len(muestra)\n",
    "    return sum([((x-mu)**2)/n for x in muestra.flatten()])"
   ]
  },
  {
   "cell_type": "code",
   "execution_count": 7,
   "metadata": {},
   "outputs": [
    {
     "name": "stdout",
     "output_type": "stream",
     "text": [
      "Media estimada:  199.33333333333334\n",
      "Varianza estimada:  133.95555555555558\n"
     ]
    }
   ],
   "source": [
    "muestra = np.array([210, 197, 187, 217, 194, 208, 220, 199, 193, 203, 181, 212, 188, 196, 185])\n",
    "\n",
    "media_estimada = estimador_media(muestra)\n",
    "var_estimada = estimador_varianza(muestra, media_estimada) \n",
    "\n",
    "print(\"Media estimada: \", media_estimada)\n",
    "print(\"Varianza estimada: \", var_estimada)"
   ]
  },
  {
   "attachments": {},
   "cell_type": "markdown",
   "metadata": {},
   "source": [
    "[3.b] \n",
    "\n",
    "Con cierto instrumento se realizan 20 mediciones de una magnitud fısica $μ$. Cada observacion es de la forma $X = μ+\\epsilon$, donde $\\epsilon$ es el error de medicion (aleatorio).\n",
    "Se obtuvieron los siguientes valores:\n",
    "\n",
    "* $25.11, 25.02, 25.16, 24.98, 24.83, 25.05, 24.94, 25.04, 24.99, 24.96, 25.03, 24.97, 24.93, 25.12, 25.01, 25.12, 24.90, 24.98, 25.10, 24.96$\n",
    "\n",
    "Suponiendo que los errores de medicion tienen distribucion normal con media cero y varianza 0.01, estimar $μ$. ¿Cual es la varianza del estimador de $μ$?\n",
    "\n",
    "<u>Solucion:</u> \n",
    "\n",
    "La idea es que $X_i = \\mu + \\epsilon_i$ y $\\epsilon$ ~ $N(0, 0.01) \\rightarrow X$ ~ $N(\\mu, 0.01)$\n",
    "\n",
    "Entonces, estimar $\\mu$ equivale a estimar la media de $X$ que es una normal, entonces vale lo visto en [2]...\n",
    "\n",
    "Sea $X$ ~ $N(\\mu, \\sigma^2)$ el estimador de $\\mu$ por maxima verosimilitud, dada una muestra de $n$ elementos es:\n",
    "> $\\hat \\mu_{MV} = \\bar X_n = \\sum_{i=0}^n X_i/n$\n",
    "\n",
    "Por lo tanto, en este caso queda $\\hat \\mu_{MV} = \\bar X_{20} = \\sum_{i=0}^{20} X_i/20$"
   ]
  },
  {
   "cell_type": "code",
   "execution_count": 8,
   "metadata": {},
   "outputs": [
    {
     "data": {
      "text/plain": [
       "25.009999999999998"
      ]
     },
     "execution_count": 8,
     "metadata": {},
     "output_type": "execute_result"
    }
   ],
   "source": [
    "muestra = np.array([25.11, 25.02, 25.16, 24.98, 24.83, 25.05, 24.94, 25.04, 24.99, 24.96, 25.03, 24.97, 24.93, 25.12, 25.01, 25.12, 24.90, 24.98, 25.10, 24.96])\n",
    "muestra.mean()"
   ]
  },
  {
   "attachments": {},
   "cell_type": "markdown",
   "metadata": {},
   "source": [
    "Por otra parte, la varianza del estimador $\\hat \\mu_{MV}$ es...\n",
    "\n",
    "$Var(\\hat \\mu_{MV}) = Var(\\sum_{i=0}^n X_i/n) = n^{-2} Var(\\sum_{i=0}^n X_i) = n^{-2} \\sum_{i=1}^n Var(X_i) = 0.01 / n$\n",
    "\n",
    "Como en este caso $n=20 \\rightarrow Var(\\hat \\mu_{MV}) = 0.0005$"
   ]
  },
  {
   "attachments": {},
   "cell_type": "markdown",
   "metadata": {},
   "source": [
    "[3.c] \n",
    "\n",
    "Para conocer la precision de un sistema de medici ́on se mide 24 veces una magnitud conocida $μ_0 = 12$, obteni ́endose los siguientes valores\n",
    "\n",
    "* ${12.51, 11.66, 11.91, 12.25, 11.54, 11.36, 12.4, 12.19, 12.88, 12.16, 12.69, 12.91, 12.12, 11.02, 12.53, 11.77, 12.72, 10.56, 11.52, 11.66, 12.25, 12.09, 11.48, 12.36}$\n",
    "\n",
    "Estimar la precision (es decir, la varianza del error de medici ́on), suponiendo que los errores estan normalmente distribu ́ıdos con media cero).\n",
    "\n",
    "<u>Solucion: </u>\n",
    "\n",
    "Las mediciones son $X_i = \\mu_0 + \\epsilon_i \\rightarrow \\epsilon = X - \\mu_0$\n",
    "\n",
    "Tenemos que el error $\\epsilon$ ~ $N(0, \\sigma^2) \\rightarrow$\n",
    "\n",
    "> $\\sigma_{MV}^2 = \\frac{1}{n} \\sum_{i=1}^n (X_i - \\mu)^2$, demostrado en [2]\n",
    "\n",
    "Por lo tanto, en este caso queda...\n",
    "\n",
    "$\\sigma_{MV}^2 = \\frac{1}{24} \\sum_{i=1}^{24} (X_i - \\mu)^2$\n"
   ]
  },
  {
   "cell_type": "code",
   "execution_count": 13,
   "metadata": {},
   "outputs": [
    {
     "data": {
      "text/plain": [
       "0.33687500000000004"
      ]
     },
     "execution_count": 13,
     "metadata": {},
     "output_type": "execute_result"
    }
   ],
   "source": [
    "muestra = [12.51, 11.66, 11.91, 12.25, 11.54, 11.36, 12.4, 12.19, 12.88, 12.16, 12.69,\n",
    "           12.91, 12.12, 11.02, 12.53, 11.77, 12.72, 10.56, 11.52, 11.66, 12.25, 12.09,\n",
    "           11.48, 12.36]\n",
    "\n",
    "estimacion_varianza = 1/24 * sum([(x-12)**2 for x in muestra])\n",
    "estimacion_varianza"
   ]
  },
  {
   "attachments": {},
   "cell_type": "markdown",
   "metadata": {},
   "source": [
    "## Ejercicio 4 - Estimadores de Exponencial\n",
    "\n",
    "Se sabe que el tiempo de duracion de una clase de lamparas tiene distribucion $\\epsilon(θ)$. Consideremos el siguiente experimento. Se seleccionan $n$ lamparas al azar y se registran sus tiempos de duracion: $X_1,...,X_n$.\n",
    "\n"
   ]
  },
  {
   "attachments": {},
   "cell_type": "markdown",
   "metadata": {},
   "source": [
    "[4.a] Calcular el estimador de momentos y de MV de θ y del percentil 90 (o cuantil 0.9) del tiempo de duracion de una lampara bajo el modelo propuesto.\n",
    "\n",
    "[i] Por Maxima Verosimilitud (MV)... \n",
    "> Sea $L(\\theta)$ la funcion de verosimilitud para la muestra $X$:<br>\n",
    "> $L(\\theta) = \\prod_{i=1}^n \\theta e^{-\\theta X_i} I_{(0, +inf)}(X_i)$\n",
    "$= \\theta^n e^{-\\theta \\sum_{i=1}^{n} X_i} \\prod_{i=1}^n I_{(0, +inf)}(X_i)$ <br>\n",
    "> Sea $l(\\theta) = ln(L(\\theta)) =  nln(\\theta) - \\theta \\sum_{i=1}^{n} X_i + g(X)$ <br>\n",
    "> Veo $\\frac{\\partial}{\\partial \\theta} l(\\theta) = \\frac{n}{\\theta} - \\sum_{i=1}^{n} X_i = 0$\n",
    "$\\leftrightarrow n - \\theta \\sum_{i=1}^{n} X_i = 0$\n",
    "> Entonces despejando queda $\\hat \\theta_{MV} = \\frac{n}{\\sum_{i=1}^{n} X_i} = \\frac{1}{\\bar X_n}$\n",
    "\n",
    "[ii] Por Momentos... \n",
    "> $E(X) = \\bar X_n = \\sum_{i=1}^{n} X_i / n$<br>\n",
    "> Pero $E(X) = 1/\\theta$ porque $X$ ~ $\\epsilon(\\theta)$<br>\n",
    "> Entonces  $\\hat \\theta_{M} = \\frac{n}{\\sum_{i=1}^{n} X_i} = \\frac{1}{\\bar X_n}$\n",
    "\n",
    "[iii] Luego $F_X^{-1}(0.9)$ viene de usar el estimador de $\\theta$ en la densidad."
   ]
  },
  {
   "attachments": {},
   "cell_type": "markdown",
   "metadata": {},
   "source": [
    "[4.b] Decidir si estos estimadores son insesgados o asintoticamente insesgados.\n",
    "\n",
    "* Un estimador $\\hat \\lambda$ es sesgado si $bias(\\hat \\lambda) = E(\\hat \\lambda) - \\lambda \\neq 0$\n",
    "* Luego..."
   ]
  },
  {
   "attachments": {},
   "cell_type": "markdown",
   "metadata": {},
   "source": [
    "[4.c] Decidir si estos estimadores son consistentes. Justificar.\n",
    "\n",
    "> Un estimador $\\hat \\lambda$ es consistente sii $(\\lim n \\rightarrow inf): $ <br>\n",
    "> $\\hat E(\\lambda_n) \\rightarrow \\lambda$ ^ $Var(\\hat \\lambda_n) \\rightarrow 0$<br>\n",
    "> Luego en este caso, ambos estimadores $\\hat \\theta$ quedaron iguales $\\rightarrow$ <br>\n",
    "> $(\\lim n \\rightarrow inf): \\hat \\theta_n = \\frac{1}{\\sum_{i=1}^n X_i/n} = \\frac{1}{\\bar X_n} \\rightarrow 1 / E(X)$ <br>\n",
    "> Como $X$ ~ $Exponencial(\\theta) \\rightarrow E(X) = 1/\\theta$, entonces <br>\n",
    "> $(\\lim n \\rightarrow inf): \\hat \\theta_n = \\frac{1}{\\bar X_n} \\rightarrow 1 / E(X) = \\frac{1}{1/\\theta} = \\theta$ <br>\n",
    "> Concluyo, son estimadores consistentes.\n"
   ]
  },
  {
   "attachments": {},
   "cell_type": "markdown",
   "metadata": {},
   "source": [
    "[4.d] Se han probado 20 lamparas, obteniendose los siguientes tiempos de duracion (en dıas):\n",
    "\n",
    "* 39.08 45.27 26.27 14.77 65.84 49.64 0.80 66.58 69.60 32.42 228.36 64.79 9.38 3.86 37.18 104.75 3.64 104.19 8.17 8.36"
   ]
  },
  {
   "attachments": {},
   "cell_type": "markdown",
   "metadata": {},
   "source": [
    "    - i. Basandose en estas observaciones, estime $θ$ y el percentil 90 (o cuantil 0.9) del tiempo de duracion de una lampara bajo el modelo propuesto usando los estimadores hallados en el ıtem (a)."
   ]
  },
  {
   "attachments": {},
   "cell_type": "markdown",
   "metadata": {},
   "source": [
    "    - ii. ¿Como harıa para estimar el percentil solicitado si no conociera la distribucion de las $X_i$?"
   ]
  },
  {
   "attachments": {},
   "cell_type": "markdown",
   "metadata": {},
   "source": [
    "[4.e] En un nuevo experimento se registra la duracion de 350 lamparas. Los valores observados se encuentran en el archivo lamparas2.txt. Repita el  ́ıtem (d) para este nuevo conjunto de datos."
   ]
  },
  {
   "attachments": {},
   "cell_type": "markdown",
   "metadata": {},
   "source": [
    "## Ejercicio 5 - Estimadores de Poisson\n",
    "\n",
    "El numero de llamadas que recibe una central telefonica en un dia es una variable aleatoria con distribucion $P(θ)$ ($X$ ~ $P(\\theta)$). Se desea estimar la probabilidad de que en un determinado dia se reciban exactamante 40 llamadas. Para ello se registraran la cantidad de llamadas recibidas durante 48 dias.\n",
    "\n"
   ]
  },
  {
   "attachments": {},
   "cell_type": "markdown",
   "metadata": {},
   "source": [
    "[5.a] Basandose en la muestra aleatoria $X_1, . . . , X_n$, hallar el estimador de momentos y de maxima verosimilitud de $θ$.\n",
    "\n",
    "[i] Por Maxima Verosimilitud (MV)... \n",
    "> Sea  $L(\\theta)$ la funcion de verosimilitud para la muestra $X$:<br>\n",
    "> $L(\\theta) = \\prod_{i=1}^n \\frac{\\theta^X_i}{X_i!}e^{-\\theta}$\n",
    "$= e^{-n\\theta}\\theta^{\\sum_{i=1}^{n} X_i} \\prod_{i=1}^n \\frac{1}{X_i!}$ <br>\n",
    "> Sea $l(\\theta) = ln(L(\\theta)) =  -n\\theta + \\sum_{i=1}^n X_i ln(\\theta) - \\sum_{i=1}^n ln (X_i)$ <br>\n",
    "> Veo $\\frac{\\partial}{\\partial \\theta} l(\\theta) = -n + \\frac{1}{\\theta}\\sum_{i=1}^n X_i = 0$ \n",
    "$\\leftrightarrow -n \\theta + \\sum_{i=1}^n X_i = 0$<br>\n",
    "> Entonces $\\hat \\theta_{MV} = \\sum_{i=1}^n X_i / n = \\bar X_n$\n",
    "\n",
    "[ii] Por Momentos... \n",
    "> $E(X) = \\bar X_n$ <br>\n",
    "> Como $X$ ~ $P(\\theta) \\rightarrow E(X) = \\theta$ <br>\n",
    "> Luego, al igual que por MV.. <br>\n",
    "> $\\hat \\theta_M = \\bar X_n$ "
   ]
  },
  {
   "attachments": {},
   "cell_type": "markdown",
   "metadata": {},
   "source": [
    "[5.b] Deducir un estimador para la probabilidad de que en un determinado dIa se reciban 40 llamadas.\n",
    "\n",
    "* Usando $\\hat \\theta = \\bar X_n$, \n",
    "\n",
    "* $P(X = 40) = F_x(40) = \\frac{(\\hat \\theta)^{40}}{40!}e^{-\\hat \\theta}$"
   ]
  },
  {
   "attachments": {},
   "cell_type": "markdown",
   "metadata": {},
   "source": [
    "[5.c] ¿Como haria para estimar la probabilidad deseada si no conociera la distribucion de las Xi?\n",
    "\n",
    "$P(x=40) =$ #{$X_i \\in X: X_i = 40$ } / #{$X$}\n",
    " "
   ]
  },
  {
   "attachments": {},
   "cell_type": "markdown",
   "metadata": {},
   "source": [
    "## Ejercicio 6: Distribucion desconocida \n",
    "\n",
    "Se sabe que la longitud de los ejes que fabrica un establecimiento siderurgico tiene densidad:\n",
    "\n",
    "* $f(x;\\theta) = \\frac{1}{\\theta} x^{(\\frac{1}{\\theta}-1)}I_{(0,1)}(x)$\n"
   ]
  },
  {
   "attachments": {},
   "cell_type": "markdown",
   "metadata": {},
   "source": [
    "[6.a] Hallar el estimador de MV y el estimador de momentos\n",
    "\n",
    "Por Maxima Verosimilitud... \n",
    "> Sea  $L(\\theta)$ la funcion de verosimilitud para la muestra $X$:<br>\n",
    "> $L(\\theta) = \\prod_{i=1}^n \\frac{1}{\\theta} x^{(\\frac{1}{\\theta}-1)}I_{(0,1)}(x)$\n",
    "$=\\theta^{-n} \\prod_{i=1}^n X_i^{(\\frac{1}{\\theta} - 1)} I_{(0,1)}(x)$ <br>\n",
    "> Sea $l(\\theta) = ln(L(\\theta)) = -nln(\\theta) + (\\frac{1}{\\theta}-1) \\sum_{x=1}^n ln(X_i) g(x_i)$ <br>\n",
    "> Veo $\\frac{\\partial}{\\partial \\theta} l(\\theta) = -\\frac{n}{\\theta} - \\frac{1}{\\theta^2} \\sum_{i=1}^n ln(X_i) = 0$\n",
    "$\\leftrightarrow - n \\theta - \\sum_{i=1}^n ln(X_i) = 0$ <br>\n",
    "> Entonces $\\hat \\theta_{MV} = \\frac{-\\sum_{i=1}^n ln(X_i)}{n}$\n",
    "\n",
    "Por Momentos...\n",
    "> $E(X) = \\hat X_n$ <br>\n",
    "> En este caso, <br>\n",
    "> $E(X) = \\int_0^1 x \\frac{1}{\\theta} x^{(\\frac{1}{\\theta}-1)} dx$\n",
    "> $= \\frac{1}{\\theta}\\int_0^1 x^{\\frac{1}{\\theta}} dx = \\frac{1}{\\theta+1}$<br>\n",
    "> Por lo tanto, <br>\n",
    "> $E(X) = \\hat X_n \\rightarrow \\frac{1}{\\theta+1} = \\hat X_n$<br>\n",
    "> $\\leftrightarrow \\hat \\theta_M = \\frac{1}{\\hat X_n} -1$"
   ]
  },
  {
   "cell_type": "code",
   "execution_count": 8,
   "metadata": {},
   "outputs": [
    {
     "data": {
      "text/plain": [
       "[<matplotlib.lines.Line2D at 0x13633a99e40>]"
      ]
     },
     "execution_count": 8,
     "metadata": {},
     "output_type": "execute_result"
    },
    {
     "data": {
      "image/png": "[encoded data removed]",
      "text/plain": [
       "<Figure size 432x288 with 1 Axes>"
      ]
     },
     "metadata": {
      "needs_background": "light"
     },
     "output_type": "display_data"
    }
   ],
   "source": [
    "def pp(theta:float) -> float:\n",
    "    x:list = [3,8,9,6,4,5,3,2]\n",
    "    out:float = 1\n",
    "    for k in x:\n",
    "        out *= theta*(1-theta)**(k-1)\n",
    "    return out\n",
    "\n",
    "X = np.linspace(0,0.6,100)\n",
    "Y = [pp(x) for x in X]\n",
    "\n",
    "plt.plot(X,Y)"
   ]
  },
  {
   "cell_type": "code",
   "execution_count": 16,
   "metadata": {},
   "outputs": [
    {
     "data": {
      "text/plain": [
       "0.15384615384615385"
      ]
     },
     "execution_count": 16,
     "metadata": {},
     "output_type": "execute_result"
    }
   ],
   "source": [
    "(-8) / (-8 -8 * (8+3)/2) "
   ]
  }
 ],
 "metadata": {
  "kernelspec": {
   "display_name": "Python 3",
   "language": "python",
   "name": "python3"
  },
  "language_info": {
   "codemirror_mode": {
    "name": "ipython",
    "version": 3
   },
   "file_extension": ".py",
   "mimetype": "text/x-python",
   "name": "python",
   "nbconvert_exporter": "python",
   "pygments_lexer": "ipython3",
   "version": "3.10.4"
  },
  "orig_nbformat": 4
 },
 "nbformat": 4,
 "nbformat_minor": 2
}
