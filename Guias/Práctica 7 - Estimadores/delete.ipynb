{
 "cells": [
  {
   "cell_type": "code",
   "execution_count": null,
   "metadata": {},
   "outputs": [],
   "source": [
    "FORMATO MV:\n",
    "\n",
    "> Sea  $L(\\theta)$ la funcion de verosimilitud para la muestra $X$:<br>\n",
    "> $L(\\theta) = \\prod_{i=1}^n $\n",
    "$=$ <br>\n",
    "> Sea $l(\\theta) = ln(L(\\theta)) =  $ <br>\n",
    "> Veo $\\frac{\\partial}{\\partial \\theta} l(\\theta) = 0$\n",
    "$\\leftrightarrow \\theta = $\n",
    "> Entonces $\\hat \\theta_{MV} = $"
   ]
  }
 ],
 "metadata": {
  "language_info": {
   "name": "python"
  },
  "orig_nbformat": 4
 },
 "nbformat": 4,
 "nbformat_minor": 2
}
