{
 "cells": [
  {
   "cell_type": "code",
   "execution_count": 4,
   "metadata": {},
   "outputs": [],
   "source": [
    "import numpy as np"
   ]
  },
  {
   "attachments": {},
   "cell_type": "markdown",
   "metadata": {},
   "source": [
    "### Ejercicio 1: \n",
    "\n",
    "Se analizaron 12 piezas de pan blanco de cierta marca elegidas al azar. Se determin ́o el porcentaje de carbohidratos contenido en cada una de las piezas, obteniendose los siguientes valores:\n",
    "\n",
    "- 76.93 76.88 77.07 76.68 76.39 75.09 77.67 76.88 78.15 76.50 77.16 76.42"
   ]
  },
  {
   "attachments": {},
   "cell_type": "markdown",
   "metadata": {},
   "source": [
    "[1.a] Estimar la esperanza del porcentaje de carbohidratos contenido en una pieza de pan de esta marca.\n",
    "\n",
    "$E(X) \\approx \\sum_{i=1}^n X_i/n$"
   ]
  },
  {
   "cell_type": "code",
   "execution_count": 9,
   "metadata": {},
   "outputs": [
    {
     "data": {
      "text/plain": [
       "76.81833333333333"
      ]
     },
     "execution_count": 9,
     "metadata": {},
     "output_type": "execute_result"
    }
   ],
   "source": [
    "muestra = np.array([76.93, 76.88, 77.07, 76.68, 76.39, 75.09, 77.67, 76.88, 78.15, 76.50, 77.16, 76.42])\n",
    "muestra.mean()"
   ]
  },
  {
   "attachments": {},
   "cell_type": "markdown",
   "metadata": {},
   "source": [
    "[1.b] Estimar la mediana del porcentaje de carbohidratos contenido en una pieza de pan de esta marca.\n",
    "\n",
    "$Med(X) \\approx \\frac{x^{(k)} + x^{(k+1)}}{2}$, con $k=2n$ y $n=len(muestra)=12$"
   ]
  },
  {
   "cell_type": "code",
   "execution_count": 10,
   "metadata": {},
   "outputs": [
    {
     "data": {
      "text/plain": [
       "76.88"
      ]
     },
     "execution_count": 10,
     "metadata": {},
     "output_type": "execute_result"
    }
   ],
   "source": [
    "np.median(muestra)"
   ]
  },
  {
   "attachments": {},
   "cell_type": "markdown",
   "metadata": {},
   "source": [
    "[1.c] Estimar la probabilidad de que el porcentaje de carbohidratos de una pieza de pan de esta marca no exceda el 76.5%.\n",
    "\n",
    "$P(X < 76,5) \\approx \\frac{len[X < 76,5]}{len[X]}$"
   ]
  },
  {
   "cell_type": "code",
   "execution_count": 17,
   "metadata": {},
   "outputs": [
    {
     "data": {
      "text/plain": [
       "0.3333333333333333"
      ]
     },
     "execution_count": 17,
     "metadata": {},
     "output_type": "execute_result"
    }
   ],
   "source": [
    "esMenor = lambda x: (x <= 76.5 and 1) or 0\n",
    "menores = list(filter(esMenor, muestra.flatten()))\n",
    "\n",
    "P = len(menores) / len(muestra)\n",
    "P "
   ]
  },
  {
   "attachments": {},
   "cell_type": "markdown",
   "metadata": {},
   "source": [
    "### Ejercicio 2:\n",
    "\n",
    "Sea $X_1,...,X_n$ una muestra aleatoria de una distribucion $N(μ,σ^2)$. \n",
    "\n",
    "Obtener los estimadores de maxima verosimilitud (MV) de..."
   ]
  },
  {
   "attachments": {},
   "cell_type": "markdown",
   "metadata": {},
   "source": [
    "[2.a] $μ$, siendo $σ^2 = σ_0^2$ conocida.\n",
    "\n",
    "[2.b] $σ^2$, siendo $μ = μ_0$ conocida.\n",
    "\n",
    "[2.c] el par (μ,σ2) simultaneamente\n",
    "\n",
    "(Resuelto en carpeta -> Pasar)"
   ]
  },
  {
   "attachments": {},
   "cell_type": "markdown",
   "metadata": {},
   "source": [
    "### Ejercicio 3:\n",
    "\n",
    "[3.a]\n",
    "\n",
    "Una maquina envasa caramelos, siendo el peso neto (en gramos) de cada bolsa una v.a. con distribucion normal. Los siguientes datos corresponden al peso de 15 bolsas elegidas al azar:\n",
    "\n",
    "* 210 197 187 217 194 208 220 199 193 203 181 212 188 196 185\n",
    "\n",
    "Usando el metodo de MV, indique el valor estimado de la media y la varianza del peso neto de cada bolsa de caramelos envasada por esta maquina."
   ]
  },
  {
   "cell_type": "code",
   "execution_count": 18,
   "metadata": {},
   "outputs": [],
   "source": [
    "def estimador_media(muestra:np.array) -> float:\n",
    "    return muestra.mean()\n",
    "\n",
    "def estimador_varianza(muestra:np.array, mu:float) -> float:\n",
    "    n:int = len(muestra)\n",
    "    return sum([((x-mu)**2)/n for x in muestra.flatten()])"
   ]
  },
  {
   "cell_type": "code",
   "execution_count": 21,
   "metadata": {},
   "outputs": [],
   "source": [
    "muestra = np.array([210, 197, 187, 217, 194, 208, 220, 199, 193, 203, 181, 212, 188, 196, 185])\n",
    "\n",
    "media_estimada = estimador_media(muestra)\n",
    "var_estimada = estimador_varianza(muestra, media_estimada) \n",
    "\n",
    "print(\"Media estimada: \", media_estimada)\n",
    "print(\"Varianza estimada: \", var_estimada)"
   ]
  },
  {
   "attachments": {},
   "cell_type": "markdown",
   "metadata": {},
   "source": []
  }
 ],
 "metadata": {
  "kernelspec": {
   "display_name": "Python 3",
   "language": "python",
   "name": "python3"
  },
  "language_info": {
   "codemirror_mode": {
    "name": "ipython",
    "version": 3
   },
   "file_extension": ".py",
   "mimetype": "text/x-python",
   "name": "python",
   "nbconvert_exporter": "python",
   "pygments_lexer": "ipython3",
   "version": "3.10.6"
  },
  "orig_nbformat": 4
 },
 "nbformat": 4,
 "nbformat_minor": 2
}
