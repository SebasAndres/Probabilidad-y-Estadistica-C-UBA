{
 "cells": [
  {
   "cell_type": "markdown",
   "metadata": {},
   "source": [
    "# Practica 6 - Estadistica Descriptiva \n",
    "\n",
    "Solucion en R (por honi): https://github.com/honi/uba-probabilidad-y-estadistica/blob/main/Soluciones/Pr%C3%A1ctica6.ipynb"
   ]
  },
  {
   "cell_type": "code",
   "execution_count": 1,
   "metadata": {},
   "outputs": [],
   "source": [
    "import pandas as pd\n",
    "import numpy as np\n",
    "import seaborn as sns\n",
    "import scipy.stats as stats\n",
    "import matplotlib.pyplot as plt\n",
    "from tabulate import tabulate"
   ]
  },
  {
   "cell_type": "markdown",
   "metadata": {},
   "source": [
    "## [1] Ejercicio Fabrica de alfajores\n",
    "\n",
    "Una fabrica de alfajores tiene dos sedes: una en Quilmes y la otra en Pilar. Cada sede empaqueta sus alfajores en cajas con 4 unidades. \n",
    "\n",
    "Denotemos con $X$ a la variable aleatoria que indica el numero de alfajores defectuosos en una caja y con $Y$ a la variable aleatoria que indica la sede de la que proviene la caja, Quilmes(Y = 0) o Pilar (Y = 1).\n",
    "\n",
    "El archivo alfajores.txt contiene datos que se obtienen al examinar cajas al azar producidas por la fabrica. Es decir, realizaciones del vector $(X, Y)$.\n",
    "Supongamos que se seleccionaron $n=500$ cajas al azar producidas por la fabrica.\n",
    "\n",
    "> $X: $ # alfajores defectuosos de una caja de 4 alfajores\n",
    "\n",
    "> $Y: $ sede de la caja (0: Quilmes, 1: Pilar)\n"
   ]
  },
  {
   "cell_type": "code",
   "execution_count": 2,
   "metadata": {},
   "outputs": [],
   "source": [
    "datos_alfajores:list = []\n",
    "with open(\"datasets/p6/alfajores.txt\", \"r\") as file:\n",
    "    for line in file.readlines()[1:]:\n",
    "        id, x, y = line.split(\" \")\n",
    "        x = int(x)\n",
    "        y = int(y)\n",
    "        datos_alfajores.append((x, y))\n",
    "\n",
    "dataset_alfajores:pd.DataFrame = pd.DataFrame(data=datos_alfajores, columns=['defectuosos', 'sede'])"
   ]
  },
  {
   "cell_type": "code",
   "execution_count": 4,
   "metadata": {},
   "outputs": [
    {
     "data": {
      "text/html": [
       "<div>\n",
       "<style scoped>\n",
       "    .dataframe tbody tr th:only-of-type {\n",
       "        vertical-align: middle;\n",
       "    }\n",
       "\n",
       "    .dataframe tbody tr th {\n",
       "        vertical-align: top;\n",
       "    }\n",
       "\n",
       "    .dataframe thead th {\n",
       "        text-align: right;\n",
       "    }\n",
       "</style>\n",
       "<table border=\"1\" class=\"dataframe\">\n",
       "  <thead>\n",
       "    <tr style=\"text-align: right;\">\n",
       "      <th></th>\n",
       "      <th>defectuosos</th>\n",
       "      <th>sede</th>\n",
       "    </tr>\n",
       "  </thead>\n",
       "  <tbody>\n",
       "    <tr>\n",
       "      <th>0</th>\n",
       "      <td>3</td>\n",
       "      <td>1</td>\n",
       "    </tr>\n",
       "    <tr>\n",
       "      <th>1</th>\n",
       "      <td>3</td>\n",
       "      <td>1</td>\n",
       "    </tr>\n",
       "    <tr>\n",
       "      <th>2</th>\n",
       "      <td>3</td>\n",
       "      <td>1</td>\n",
       "    </tr>\n",
       "    <tr>\n",
       "      <th>3</th>\n",
       "      <td>1</td>\n",
       "      <td>0</td>\n",
       "    </tr>\n",
       "    <tr>\n",
       "      <th>4</th>\n",
       "      <td>4</td>\n",
       "      <td>1</td>\n",
       "    </tr>\n",
       "  </tbody>\n",
       "</table>\n",
       "</div>"
      ],
      "text/plain": [
       "   defectuosos  sede\n",
       "0            3     1\n",
       "1            3     1\n",
       "2            3     1\n",
       "3            1     0\n",
       "4            4     1"
      ]
     },
     "execution_count": 4,
     "metadata": {},
     "output_type": "execute_result"
    }
   ],
   "source": [
    "dataset_alfajores.head(5)"
   ]
  },
  {
   "cell_type": "markdown",
   "metadata": {},
   "source": [
    "[1.a] La probabilidad de que una caja provenga de la sede Quilmes.\n",
    "\n",
    "Para estimar la probabilidad de que un alfajor venga de Quilmes con la muestra se miran las proporciones en la muestra.\n",
    "$P({Quilmes}) = \\frac{cant Quilmes}{cant Dataset}$"
   ]
  },
  {
   "cell_type": "code",
   "execution_count": 5,
   "metadata": {},
   "outputs": [
    {
     "data": {
      "text/plain": [
       "0.256"
      ]
     },
     "execution_count": 5,
     "metadata": {},
     "output_type": "execute_result"
    }
   ],
   "source": [
    "p_quilmes = (len(dataset_alfajores) - dataset_alfajores['sede'].sum()) / len(dataset_alfajores)\n",
    "p_quilmes"
   ]
  },
  {
   "cell_type": "code",
   "execution_count": 6,
   "metadata": {},
   "outputs": [],
   "source": [
    "p_pilar = 1 - p_quilmes"
   ]
  },
  {
   "cell_type": "markdown",
   "metadata": {},
   "source": [
    "[1.b] La probabilidad de que una caja este producida en Quilmes y tenga 3 alfajores defectuosos.\n",
    "\n",
    "$P(Quilmes \\cap X=3) = P(X=3|Quilmes) * P(Quilmes) = \\frac{cantQuilmes\\cap (X=3)}{cantDataset}$ "
   ]
  },
  {
   "cell_type": "code",
   "execution_count": 7,
   "metadata": {},
   "outputs": [
    {
     "name": "stdout",
     "output_type": "stream",
     "text": [
      "v1:  0.018\n",
      "v2:  0.018000000000000002\n"
     ]
    }
   ],
   "source": [
    "cajasDeQuilmes:pd.DataFrame = dataset_alfajores[dataset_alfajores.sede == 0]\n",
    "cajasDeQuilmesCon3Defectuosos:pd.DataFrame = cajasDeQuilmes[cajasDeQuilmes.defectuosos == 3]\n",
    "\n",
    "# via 1\n",
    "p_quilmes_y_3_defectuosos_v1 = len(cajasDeQuilmesCon3Defectuosos) / len(dataset_alfajores)\n",
    "print('v1: ', p_quilmes_y_3_defectuosos_v1)\n",
    "\n",
    "# via 2\n",
    "p_3_defectuosos_cond_quilmes = len(cajasDeQuilmesCon3Defectuosos) / len(cajasDeQuilmes)\n",
    "p_quilmes_y_3_defectuosos_v2 = p_3_defectuosos_cond_quilmes * p_quilmes\n",
    "print('v2: ', p_quilmes_y_3_defectuosos_v2)"
   ]
  },
  {
   "cell_type": "markdown",
   "metadata": {},
   "source": [
    "[1.c] La funcion de probabilidad conjunta del vector $(X, Y)$"
   ]
  },
  {
   "cell_type": "code",
   "execution_count": 8,
   "metadata": {},
   "outputs": [],
   "source": [
    "def P(x:int, y:int) -> float:\n",
    "    # probabilidad conjunta aproximada segun la # apariciones en la muestra\n",
    "    if not ((0 <= x <= 4) and (y in [0,1])):\n",
    "        return 0\n",
    "    return len(dataset_alfajores[dataset_alfajores.sede == y][dataset_alfajores.defectuosos == x]) / len(dataset_alfajores)"
   ]
  },
  {
   "cell_type": "code",
   "execution_count": 9,
   "metadata": {},
   "outputs": [
    {
     "name": "stdout",
     "output_type": "stream",
     "text": [
      "+---------+-------+-------+\n",
      "|   X \\ Y |     0 |     1 |\n",
      "+=========+=======+=======+\n",
      "|       0 | 0.096 | 0.004 |\n",
      "+---------+-------+-------+\n",
      "|       1 | 0.09  | 0.034 |\n",
      "+---------+-------+-------+\n",
      "|       2 | 0.052 | 0.166 |\n",
      "+---------+-------+-------+\n",
      "|       3 | 0.018 | 0.288 |\n",
      "+---------+-------+-------+\n",
      "|       4 | 0     | 0.252 |\n",
      "+---------+-------+-------+\n"
     ]
    },
    {
     "name": "stderr",
     "output_type": "stream",
     "text": [
      "C:\\Users\\sebas\\AppData\\Local\\Temp\\ipykernel_20948\\2303116981.py:5: UserWarning: Boolean Series key will be reindexed to match DataFrame index.\n",
      "  return len(dataset_alfajores[dataset_alfajores.sede == y][dataset_alfajores.defectuosos == x]) / len(dataset_alfajores)\n",
      "C:\\Users\\sebas\\AppData\\Local\\Temp\\ipykernel_20948\\2303116981.py:5: UserWarning: Boolean Series key will be reindexed to match DataFrame index.\n",
      "  return len(dataset_alfajores[dataset_alfajores.sede == y][dataset_alfajores.defectuosos == x]) / len(dataset_alfajores)\n",
      "C:\\Users\\sebas\\AppData\\Local\\Temp\\ipykernel_20948\\2303116981.py:5: UserWarning: Boolean Series key will be reindexed to match DataFrame index.\n",
      "  return len(dataset_alfajores[dataset_alfajores.sede == y][dataset_alfajores.defectuosos == x]) / len(dataset_alfajores)\n",
      "C:\\Users\\sebas\\AppData\\Local\\Temp\\ipykernel_20948\\2303116981.py:5: UserWarning: Boolean Series key will be reindexed to match DataFrame index.\n",
      "  return len(dataset_alfajores[dataset_alfajores.sede == y][dataset_alfajores.defectuosos == x]) / len(dataset_alfajores)\n",
      "C:\\Users\\sebas\\AppData\\Local\\Temp\\ipykernel_20948\\2303116981.py:5: UserWarning: Boolean Series key will be reindexed to match DataFrame index.\n",
      "  return len(dataset_alfajores[dataset_alfajores.sede == y][dataset_alfajores.defectuosos == x]) / len(dataset_alfajores)\n",
      "C:\\Users\\sebas\\AppData\\Local\\Temp\\ipykernel_20948\\2303116981.py:5: UserWarning: Boolean Series key will be reindexed to match DataFrame index.\n",
      "  return len(dataset_alfajores[dataset_alfajores.sede == y][dataset_alfajores.defectuosos == x]) / len(dataset_alfajores)\n",
      "C:\\Users\\sebas\\AppData\\Local\\Temp\\ipykernel_20948\\2303116981.py:5: UserWarning: Boolean Series key will be reindexed to match DataFrame index.\n",
      "  return len(dataset_alfajores[dataset_alfajores.sede == y][dataset_alfajores.defectuosos == x]) / len(dataset_alfajores)\n",
      "C:\\Users\\sebas\\AppData\\Local\\Temp\\ipykernel_20948\\2303116981.py:5: UserWarning: Boolean Series key will be reindexed to match DataFrame index.\n",
      "  return len(dataset_alfajores[dataset_alfajores.sede == y][dataset_alfajores.defectuosos == x]) / len(dataset_alfajores)\n",
      "C:\\Users\\sebas\\AppData\\Local\\Temp\\ipykernel_20948\\2303116981.py:5: UserWarning: Boolean Series key will be reindexed to match DataFrame index.\n",
      "  return len(dataset_alfajores[dataset_alfajores.sede == y][dataset_alfajores.defectuosos == x]) / len(dataset_alfajores)\n",
      "C:\\Users\\sebas\\AppData\\Local\\Temp\\ipykernel_20948\\2303116981.py:5: UserWarning: Boolean Series key will be reindexed to match DataFrame index.\n",
      "  return len(dataset_alfajores[dataset_alfajores.sede == y][dataset_alfajores.defectuosos == x]) / len(dataset_alfajores)\n"
     ]
    }
   ],
   "source": [
    "proba_conjunta_alfajores = [['X \\ Y', 0, 1], \n",
    "                            [0, P(0,0), P(0,1)], \n",
    "                            [1, P(1,0), P(1,1)], \n",
    "                            [2, P(2,0), P(2,1)],\n",
    "                            [3, P(3,0), P(3,1)], \n",
    "                            [4, P(4,0), P(4,1)],\n",
    "                            ]\n",
    "\n",
    "print(tabulate(proba_conjunta_alfajores, headers='firstrow', tablefmt='grid'))"
   ]
  },
  {
   "cell_type": "markdown",
   "metadata": {},
   "source": [
    "[1.d] Estimar la esperanza y varianza de $X$\n",
    "\n",
    "Media muestral\n",
    "$\\bar{x} = \\frac{1}{n}\\sum_{i=1}^n x_i$"
   ]
  },
  {
   "cell_type": "code",
   "execution_count": 10,
   "metadata": {},
   "outputs": [],
   "source": [
    "def media_muestral(lss:list) -> float:\n",
    "    return sum(lss) / len(lss)"
   ]
  },
  {
   "cell_type": "code",
   "execution_count": 11,
   "metadata": {},
   "outputs": [
    {
     "name": "stdout",
     "output_type": "stream",
     "text": [
      "Media Muestral Implementado:  2.486\n",
      "Media Muestral Numpy:  2.486\n"
     ]
    }
   ],
   "source": [
    "defectuosos_lss:list = list(dataset_alfajores['defectuosos'])\n",
    "media_muestral_x:float = media_muestral(defectuosos_lss)\n",
    "print(\"Media Muestral Implementado: \", media_muestral_x)\n",
    "print(\"Media Muestral Numpy: \", np.mean(defectuosos_lss))"
   ]
  },
  {
   "cell_type": "markdown",
   "metadata": {},
   "source": [
    "Varianza muestral\n",
    "$s^2 = \\frac{\\sum_{i=1}^n (x_i - \\bar{x})^2}{n-1}$"
   ]
  },
  {
   "cell_type": "code",
   "execution_count": 12,
   "metadata": {},
   "outputs": [],
   "source": [
    "def varianza_muestral(lss:list, media_muestral:float) -> float:\n",
    "    return sum([(xi - media_muestral)**2 for xi in lss]) / (len(lss) - 1)"
   ]
  },
  {
   "cell_type": "code",
   "execution_count": 13,
   "metadata": {},
   "outputs": [
    {
     "name": "stdout",
     "output_type": "stream",
     "text": [
      "Varianza Muestral Implementada:  1.6050140280561087\n",
      "Varianza Muestral Implementada:  1.6018039999999998\n"
     ]
    }
   ],
   "source": [
    "print(\"Varianza Muestral Implementada: \", varianza_muestral(defectuosos_lss, media_muestral_x))\n",
    "print(\"Varianza Muestral Implementada: \", np.std(defectuosos_lss)**2)"
   ]
  },
  {
   "cell_type": "markdown",
   "metadata": {},
   "source": [
    "[1.e] La probabilidad de que una caja producida por la sede Quilmes tenga 3 alfajores defectuosos $P(X=3|Y=0)$\n",
    "\n",
    "Vale $P(X=3|Y=0) = \\frac{P(X=3 \\cap Y=0)}{P(Y=0)} = \\frac{cant (X=3 \\cap Y=0)}{cant(Y=0)}$"
   ]
  },
  {
   "cell_type": "code",
   "execution_count": 14,
   "metadata": {},
   "outputs": [],
   "source": [
    "def p_x_quilmes(x:int) -> float:\n",
    "    global dataset_alfajores\n",
    "\n",
    "    if not (0 <= x <= 4):\n",
    "        return 0\n",
    "    \n",
    "    cajasDeQuilmes:pd.DataFrame = dataset_alfajores[dataset_alfajores.sede == 0]\n",
    "    cajasDeQuilmesConNElementos:pd.DataFrame = cajasDeQuilmes[cajasDeQuilmes.defectuosos == x]\n",
    "    \n",
    "    return len(cajasDeQuilmesConNElementos) / len(cajasDeQuilmes)"
   ]
  },
  {
   "cell_type": "code",
   "execution_count": 15,
   "metadata": {},
   "outputs": [
    {
     "data": {
      "text/plain": [
       "0.0703125"
      ]
     },
     "execution_count": 15,
     "metadata": {},
     "output_type": "execute_result"
    }
   ],
   "source": [
    "p_x_quilmes(3)"
   ]
  },
  {
   "cell_type": "markdown",
   "metadata": {},
   "source": [
    "[1.f] La probabilidad de que una caja producida por la empresa y elegida al azar tenga 3 alfajores defectuosos (es decir X = 3).\n",
    "\n",
    "La probabilidad $P(X=3)$"
   ]
  },
  {
   "cell_type": "code",
   "execution_count": 16,
   "metadata": {},
   "outputs": [
    {
     "data": {
      "text/plain": [
       "0.306"
      ]
     },
     "execution_count": 16,
     "metadata": {},
     "output_type": "execute_result"
    }
   ],
   "source": [
    "len(dataset_alfajores[dataset_alfajores.defectuosos == 3])/len(dataset_alfajores)"
   ]
  },
  {
   "cell_type": "markdown",
   "metadata": {},
   "source": [
    "Tambien vale $P(X=n) = P(X=n|Y=0)P(Y=0) + P(X=n|Y=1)P(Y=1)$"
   ]
  },
  {
   "cell_type": "code",
   "execution_count": 17,
   "metadata": {},
   "outputs": [],
   "source": [
    "def p_x_pilar(x:int) -> float:\n",
    "    global dataset_alfajores\n",
    "    if not (0 <= x <= 4):\n",
    "        return 0\n",
    "    \n",
    "    cajasDePilar:pd.DataFrame = dataset_alfajores[dataset_alfajores.sede == 1]\n",
    "    cajasDePilarConNElementos:pd.DataFrame = cajasDePilar[cajasDePilar.defectuosos == x]\n",
    "    \n",
    "    return len(cajasDePilarConNElementos) / len(cajasDePilar)\n",
    "\n",
    "def Px(x:int) -> float:\n",
    "    global p_quilmes, p_pilar\n",
    "    return p_x_quilmes(x)*p_quilmes + p_x_pilar(x)*p_pilar"
   ]
  },
  {
   "cell_type": "code",
   "execution_count": 18,
   "metadata": {},
   "outputs": [
    {
     "data": {
      "text/plain": [
       "0.306"
      ]
     },
     "execution_count": 18,
     "metadata": {},
     "output_type": "execute_result"
    }
   ],
   "source": [
    "Px(3)"
   ]
  },
  {
   "cell_type": "markdown",
   "metadata": {},
   "source": [
    "[1.g] La probabilidad de que una caja con 3 alfajores defectuosos haya sido producida por la sede Quilmes $P(Y=0|X=3)$\n",
    "\n",
    "Vale $P(Y=0|X=3) = \\frac{P(Y=0\\cap X=3)}{P(X=3)} = \\frac{P(X=3|Y=0)*P(Y=0)}{P(X=3)} $"
   ]
  },
  {
   "cell_type": "code",
   "execution_count": 19,
   "metadata": {},
   "outputs": [
    {
     "data": {
      "text/plain": [
       "0.058823529411764705"
      ]
     },
     "execution_count": 19,
     "metadata": {},
     "output_type": "execute_result"
    }
   ],
   "source": [
    "cajasCon3Defectuosos:pd.DataFrame = dataset_alfajores[dataset_alfajores.defectuosos == 3]\n",
    "cajasCon3DefectuososDeQuilmes:pd.DataFrame = cajasCon3Defectuosos[cajasCon3Defectuosos.sede == 0]\n",
    "\n",
    "len(cajasCon3DefectuososDeQuilmes) / len(cajasCon3Defectuosos)"
   ]
  },
  {
   "cell_type": "markdown",
   "metadata": {},
   "source": [
    "[1.h] La probabilidad de que una caja con 3 alfajores defectuosos haya sido producida por la sede Pilar $P(Y=1|X=3)$\n",
    "\n",
    "Vale $P(Y=1|X=3) = 1 - P(Y=0|X=3)$, porque $Y \\in {0, 1}$"
   ]
  },
  {
   "cell_type": "code",
   "execution_count": 20,
   "metadata": {},
   "outputs": [
    {
     "data": {
      "text/plain": [
       "0.9411764705882353"
      ]
     },
     "execution_count": 20,
     "metadata": {},
     "output_type": "execute_result"
    }
   ],
   "source": [
    "1 - len(cajasCon3DefectuososDeQuilmes) / len(cajasCon3Defectuosos)"
   ]
  },
  {
   "cell_type": "markdown",
   "metadata": {},
   "source": [
    "## [2] Ejercicio Lamparas\n",
    "\n",
    "Se quiere estudiar la distribucion de la duracion (en horas) de las lamparas producidas por una fabrica.\n",
    "\n",
    "Se observa la duracion de 27 lamparas elegidas al azar de la produccion de dicha fabrica y se obtienen los siguientes valores (tambien pueden encontrarlos en el archivo lamparas.txt)."
   ]
  },
  {
   "cell_type": "code",
   "execution_count": 21,
   "metadata": {},
   "outputs": [],
   "source": [
    "lamparas:list = list()\n",
    "with open(\"datasets/p6/lamparas.txt\", \"r\") as file:\n",
    "    lamparas:list = [float(r[:-2]) for r in file.readlines()]"
   ]
  },
  {
   "cell_type": "markdown",
   "metadata": {},
   "source": [
    "[2.a] Estimar la probabilidad de que una lampara producida por esta fabrica dure mas de 30 horas."
   ]
  },
  {
   "cell_type": "code",
   "execution_count": 22,
   "metadata": {},
   "outputs": [
    {
     "data": {
      "text/plain": [
       "0.37037037037037035"
      ]
     },
     "execution_count": 22,
     "metadata": {},
     "output_type": "execute_result"
    }
   ],
   "source": [
    "lamparas_mas_30 = list(filter(lambda x: x > 30, lamparas))\n",
    "len(lamparas_mas_30) / len(lamparas)"
   ]
  },
  {
   "cell_type": "markdown",
   "metadata": {},
   "source": [
    "[2.b] Hallar y graficar la funcion de distribucion empırica para este conjunto de datos.\n"
   ]
  },
  {
   "cell_type": "code",
   "execution_count": 23,
   "metadata": {},
   "outputs": [
    {
     "data": {
      "image/png": "[encoded data removed]",
      "text/plain": [
       "<Figure size 640x480 with 1 Axes>"
      ]
     },
     "metadata": {},
     "output_type": "display_data"
    }
   ],
   "source": [
    "sorted_lamparas:list = lamparas.copy()\n",
    "sorted_lamparas.sort()\n",
    "\n",
    "# distribucion acumulada\n",
    "cantidad_lamparas = len(lamparas)\n",
    "ecdf:list = [(i/cantidad_lamparas) for i in range(cantidad_lamparas)]\n",
    "\n",
    "plt.scatter(sorted_lamparas, ecdf)\n",
    "plt.xlabel(\"duracion\")\n",
    "plt.ylabel(\"probabilidad\")\n",
    "plt.show()"
   ]
  },
  {
   "cell_type": "markdown",
   "metadata": {},
   "source": [
    "[2.c] Completar: Estos datos permiten estimar que el 90% de las lamparas producidas por esta fabrica dura mas de 2.82 horas y el 10% dura menos de 2.82 horas"
   ]
  },
  {
   "cell_type": "code",
   "execution_count": 24,
   "metadata": {},
   "outputs": [
    {
     "data": {
      "text/plain": [
       "2.8200000000000003"
      ]
     },
     "execution_count": 24,
     "metadata": {},
     "output_type": "execute_result"
    }
   ],
   "source": [
    "np.quantile(lamparas, 0.1)"
   ]
  },
  {
   "cell_type": "markdown",
   "metadata": {},
   "source": [
    "## [3] Ejercicio Graduados\n",
    "\n",
    "El archivo graduados.txt, contiene los promedios obtenidos en su carrera de grado de 30 inscriptos en el programa de postgrado del Departamento de Ingenieria Industrial e Investigacion Operativa de la Universidad de Berkeley, California."
   ]
  },
  {
   "cell_type": "code",
   "execution_count": 25,
   "metadata": {},
   "outputs": [],
   "source": [
    "promedios:list = []\n",
    "with open(\"datasets/p6/graduados.txt\", 'r') as file:\n",
    "    for line in file.readlines():\n",
    "        if len(line) > 2:\n",
    "            promedios.append(float(line[:-2]))\n",
    "        pass\n",
    "    pass"
   ]
  },
  {
   "cell_type": "markdown",
   "metadata": {},
   "source": [
    "[3.a] Calcular la media muestral y la mediana muestra"
   ]
  },
  {
   "cell_type": "markdown",
   "metadata": {},
   "source": [
    "Media muestral $\\bar{x} = \\frac{1}{n}\\sum_{i=1}^n x_i$\n"
   ]
  },
  {
   "cell_type": "code",
   "execution_count": 26,
   "metadata": {},
   "outputs": [
    {
     "name": "stdout",
     "output_type": "stream",
     "text": [
      "Media Muestral Numpy:  3.68\n",
      "Media Muestral Implementada:  3.68\n"
     ]
    }
   ],
   "source": [
    "print(\"Media Muestral Numpy: \", np.mean(promedios))\n",
    "print(\"Media Muestral Implementada: \", media_muestral(promedios))"
   ]
  },
  {
   "cell_type": "markdown",
   "metadata": {},
   "source": [
    "Mediana muestral $Med(X)$\n",
    "\n",
    "$\\forall k \\in \\Z$,\n",
    "\n",
    "$Med(x)= \\left\\{ \\begin{array}{lcc}\n",
    "             \\frac{x^{(k)} + x^{(k+1)}}{2} &   si  & n = 2k\\\\\n",
    "             \\\\ x^{(k+1)} & si & n = 2k + 1\n",
    "             \\end{array}\n",
    "   \\right.$\n"
   ]
  },
  {
   "cell_type": "code",
   "execution_count": 27,
   "metadata": {},
   "outputs": [],
   "source": [
    "def mediana_muestral(lss:list) -> float:\n",
    "    n:int = len(lss)\n",
    "    lss.sort()\n",
    "    if n%2 == 0:\n",
    "        return (lss[int((n-1)/2)] + lss[int(n/2)]) / 2\n",
    "    else:\n",
    "        return lss[int((n-1)/2)]"
   ]
  },
  {
   "cell_type": "code",
   "execution_count": 28,
   "metadata": {},
   "outputs": [
    {
     "name": "stdout",
     "output_type": "stream",
     "text": [
      "Mediana Muestral Implementado:  3.7\n",
      "Mediana Muestral Numpy:  3.7\n"
     ]
    }
   ],
   "source": [
    "print(\"Mediana Muestral Implementado: \", mediana_muestral(promedios))\n",
    "print(\"Mediana Muestral Numpy: \", np.median(promedios))"
   ]
  },
  {
   "cell_type": "markdown",
   "metadata": {},
   "source": [
    "[3b] Calcular el desvio estandar muestral y la distancia intercuartil"
   ]
  },
  {
   "cell_type": "code",
   "execution_count": 29,
   "metadata": {},
   "outputs": [
    {
     "name": "stdout",
     "output_type": "stream",
     "text": [
      "STD Implementado:  0.15536386656646636\n",
      "STD Numpy:  0.15143755588800725\n"
     ]
    }
   ],
   "source": [
    "desvio_estandar:float = np.sqrt(varianza_muestral(promedios, media_muestral=3.7))\n",
    "print(\"STD Implementado: \", desvio_estandar)\n",
    "print(\"STD Numpy: \", np.std(promedios))"
   ]
  },
  {
   "cell_type": "code",
   "execution_count": 30,
   "metadata": {},
   "outputs": [
    {
     "data": {
      "text/plain": [
       "0.19999999999999973"
      ]
     },
     "execution_count": 30,
     "metadata": {},
     "output_type": "execute_result"
    }
   ],
   "source": [
    "distancia_intercuartil:float = np.quantile(promedios, 0.75) - np.quantile(promedios, 0.25)\n",
    "distancia_intercuartil"
   ]
  },
  {
   "cell_type": "markdown",
   "metadata": {},
   "source": [
    "[3c] Realizar un histograma con los datos y superponga la curva de una densidad normal con los parametros que considere pertinentes"
   ]
  },
  {
   "cell_type": "code",
   "execution_count": 31,
   "metadata": {},
   "outputs": [
    {
     "data": {
      "image/png": "[encoded data removed]",
      "text/plain": [
       "<Figure size 640x480 with 1 Axes>"
      ]
     },
     "metadata": {},
     "output_type": "display_data"
    }
   ],
   "source": [
    "# Grafico histograma\n",
    "plt.hist(promedios, bins=6, density=True, alpha=0.7, color='skyblue')\n",
    "\n",
    "# Grafico la distribución normal N(3.68, 0.15^2)\n",
    "mu = np.mean(promedios)  # media\n",
    "sigma = np.std(promedios)  # desviación estándar\n",
    "\n",
    "# Calcular la función de densidad de una distribución normal\n",
    "x = np.linspace(min(promedios), max(promedios), 100)\n",
    "y = (1 / (sigma * np.sqrt(2 * np.pi))) * np.exp(-0.5 * ((x - mu) / sigma) ** 2)\n",
    "\n",
    "# Crear gráfico de la distribución normal\n",
    "plt.plot(x, y, color='red', linewidth=2)\n",
    "\n",
    "# Configuraciones del gráfico\n",
    "plt.xlabel('Promedio')\n",
    "plt.ylabel('Densidad')\n",
    "plt.title('Histograma y Distribución Normal')\n",
    "plt.legend(['Distribución Normal', 'Histograma'])\n",
    "plt.grid(True)\n",
    "\n",
    "plt.show()"
   ]
  },
  {
   "cell_type": "markdown",
   "metadata": {},
   "source": [
    "[3.d] Realice un boxplot con este conjunto de datos. ¿Cuales son sus caracterısticas mas sobresalientes? ¿Como relaciona lo observado en los graficos con los valores estimados de media y mediana obtenidos en a)? ¿Hay outliers?"
   ]
  },
  {
   "cell_type": "code",
   "execution_count": 32,
   "metadata": {},
   "outputs": [
    {
     "data": {
      "image/png": "[encoded data removed]",
      "text/plain": [
       "<Figure size 640x480 with 1 Axes>"
      ]
     },
     "metadata": {},
     "output_type": "display_data"
    }
   ],
   "source": [
    "plt.boxplot(promedios)\n",
    "plt.title(\"Promedio graduados\")\n",
    "plt.show()"
   ]
  },
  {
   "cell_type": "markdown",
   "metadata": {},
   "source": [
    "> ¿Cuáles son sus características más sobresalientes? \n",
    "<br>\n",
    "La muestra es bastante simétrica pues la línea dentro del rectángulo se encuentra casi en la mitad del mismo.\n",
    "\n",
    "> ¿Cómo relaciona lo observado en los gráficos con los valores estimados de media y mediana obtenidos en a)?\n",
    "<br>\n",
    "Tiene sentido. El histograma muestra mayor densidad alrededor de la media, y de forma similar, el boxplot también está bastante centrado en la media.\n",
    "\n",
    "> ¿Hay outliers?\n",
    "<br>\n",
    "No, porque no aparece ningún punto suelto en el boxplot."
   ]
  },
  {
   "cell_type": "markdown",
   "metadata": {},
   "source": [
    "[3.e] ¿Que distribucion podrıa suponer que tienen estos datos?\n",
    "\n",
    "$X$ ~ $N(\\mu=3.68, \\sigma^2=0,02)$"
   ]
  },
  {
   "cell_type": "markdown",
   "metadata": {},
   "source": [
    "[3.f] Superponer en el histograma la curva de una densidad apropiada con los parametros que considere pertinentes. Explorar el comando density en R\n"
   ]
  },
  {
   "cell_type": "code",
   "execution_count": 33,
   "metadata": {},
   "outputs": [
    {
     "data": {
      "image/png": "[encoded data removed]",
      "text/plain": [
       "<Figure size 640x480 with 1 Axes>"
      ]
     },
     "metadata": {},
     "output_type": "display_data"
    }
   ],
   "source": [
    "sns.histplot(promedios, kde=True) #kde grafica la curva de densidad\n",
    "\n",
    "plt.xlabel('Promedios')\n",
    "plt.ylabel('Frecuencia')\n",
    "plt.title('Histograma y Función de Densidad')\n",
    "plt.show()"
   ]
  },
  {
   "cell_type": "markdown",
   "metadata": {},
   "source": [
    "[3.g] ¿Que otro grafico conoce que le permitiria verificar si su conjetura es razonable? \n",
    "\n",
    "> QQ-Plot\n",
    "\n",
    "ENCONTRAR ERROR\n",
    "\n",
    "<code>\n",
    "\n",
    "stats.probplot(promedios, dist='norm', plot=plt)\n",
    "\n",
    "plt.xlabel('Cuantiles teóricos')\n",
    "\n",
    "plt.ylabel('Cuantiles de los datos')\n",
    "\n",
    "plt.title('QQ-Plot')\n",
    "\n",
    "plt.show()\n",
    "</code>"
   ]
  },
  {
   "cell_type": "code",
   "execution_count": null,
   "metadata": {},
   "outputs": [],
   "source": []
  },
  {
   "cell_type": "markdown",
   "metadata": {},
   "source": [
    "## [4] Ejercicio Ciudades 🇦🇷\n",
    "\n",
    "La siguiente tabla contiene valores de poblacion, en cientos de miles, de las 10 ciudades mas pobladas de 4 paıses en el a˜no 1967. Estos datos se encuentran en el archivo ciudades.txt"
   ]
  },
  {
   "cell_type": "code",
   "execution_count": 34,
   "metadata": {},
   "outputs": [
    {
     "data": {
      "text/html": [
       "<div>\n",
       "<style scoped>\n",
       "    .dataframe tbody tr th:only-of-type {\n",
       "        vertical-align: middle;\n",
       "    }\n",
       "\n",
       "    .dataframe tbody tr th {\n",
       "        vertical-align: top;\n",
       "    }\n",
       "\n",
       "    .dataframe thead th {\n",
       "        text-align: right;\n",
       "    }\n",
       "</style>\n",
       "<table border=\"1\" class=\"dataframe\">\n",
       "  <thead>\n",
       "    <tr style=\"text-align: right;\">\n",
       "      <th></th>\n",
       "      <th>Argentina</th>\n",
       "      <th>EEUU</th>\n",
       "      <th>Holanda</th>\n",
       "      <th>Japon</th>\n",
       "    </tr>\n",
       "  </thead>\n",
       "  <tbody>\n",
       "    <tr>\n",
       "      <th>0</th>\n",
       "      <td>29.66</td>\n",
       "      <td>77.81</td>\n",
       "      <td>8.68</td>\n",
       "      <td>110.21</td>\n",
       "    </tr>\n",
       "    <tr>\n",
       "      <th>1</th>\n",
       "      <td>7.61</td>\n",
       "      <td>35.50</td>\n",
       "      <td>7.31</td>\n",
       "      <td>32.14</td>\n",
       "    </tr>\n",
       "    <tr>\n",
       "      <th>2</th>\n",
       "      <td>6.35</td>\n",
       "      <td>24.79</td>\n",
       "      <td>6.02</td>\n",
       "      <td>18.88</td>\n",
       "    </tr>\n",
       "    <tr>\n",
       "      <th>3</th>\n",
       "      <td>4.10</td>\n",
       "      <td>20.02</td>\n",
       "      <td>2.64</td>\n",
       "      <td>16.38</td>\n",
       "    </tr>\n",
       "    <tr>\n",
       "      <th>4</th>\n",
       "      <td>3.80</td>\n",
       "      <td>16.70</td>\n",
       "      <td>1.75</td>\n",
       "      <td>13.37</td>\n",
       "    </tr>\n",
       "    <tr>\n",
       "      <th>5</th>\n",
       "      <td>2.75</td>\n",
       "      <td>9.39</td>\n",
       "      <td>1.72</td>\n",
       "      <td>11.92</td>\n",
       "    </tr>\n",
       "    <tr>\n",
       "      <th>6</th>\n",
       "      <td>2.70</td>\n",
       "      <td>9.38</td>\n",
       "      <td>1.51</td>\n",
       "      <td>10.71</td>\n",
       "    </tr>\n",
       "    <tr>\n",
       "      <th>7</th>\n",
       "      <td>2.69</td>\n",
       "      <td>8.76</td>\n",
       "      <td>1.42</td>\n",
       "      <td>7.80</td>\n",
       "    </tr>\n",
       "    <tr>\n",
       "      <th>8</th>\n",
       "      <td>2.51</td>\n",
       "      <td>7.63</td>\n",
       "      <td>1.31</td>\n",
       "      <td>7.70</td>\n",
       "    </tr>\n",
       "    <tr>\n",
       "      <th>9</th>\n",
       "      <td>2.44</td>\n",
       "      <td>7.50</td>\n",
       "      <td>1.29</td>\n",
       "      <td>7.00</td>\n",
       "    </tr>\n",
       "  </tbody>\n",
       "</table>\n",
       "</div>"
      ],
      "text/plain": [
       "   Argentina   EEUU  Holanda   Japon\n",
       "0      29.66  77.81     8.68  110.21\n",
       "1       7.61  35.50     7.31   32.14\n",
       "2       6.35  24.79     6.02   18.88\n",
       "3       4.10  20.02     2.64   16.38\n",
       "4       3.80  16.70     1.75   13.37\n",
       "5       2.75   9.39     1.72   11.92\n",
       "6       2.70   9.38     1.51   10.71\n",
       "7       2.69   8.76     1.42    7.80\n",
       "8       2.51   7.63     1.31    7.70\n",
       "9       2.44   7.50     1.29    7.00"
      ]
     },
     "execution_count": 34,
     "metadata": {},
     "output_type": "execute_result"
    }
   ],
   "source": [
    "ciudades_lss:list = []\n",
    "with open('datasets/p6/ciudades.txt', 'r') as file:\n",
    "\n",
    "    header_line:str = file.readline()\n",
    "\n",
    "    headers:list = []\n",
    "    pais:str = \"\"\n",
    "\n",
    "    for i, char in enumerate(header_line):\n",
    "        if char == ' ' or i == len(header_line)-1:\n",
    "            if len(pais) > 0:\n",
    "                headers.append(pais)\n",
    "            pais:str = \"\"\n",
    "        else:\n",
    "            pais += char\n",
    "\n",
    "    for line in file.readlines():\n",
    "        vals_lss:list = []\n",
    "        val:str = \"\"\n",
    "        for i, char in enumerate(line):\n",
    "            if char == ' ' or i == len(line)-1:\n",
    "                if len(val) > 0:\n",
    "                    vals_lss.append(float(val))\n",
    "                val:str = \"\"\n",
    "            else:\n",
    "                val += char\n",
    "        \n",
    "        if len(vals_lss) != len(headers):\n",
    "            raise Exception(\"Error de lectura, la tupla debe tener la misma cantidad \\\n",
    "                            de elementos que el header\")\n",
    "        ciudades_lss.append(tuple(vals_lss))\n",
    "\n",
    "ciudades:pd.DataFrame = pd.DataFrame(ciudades_lss, columns=headers)\n",
    "ciudades"
   ]
  },
  {
   "cell_type": "markdown",
   "metadata": {},
   "source": [
    "[4.1] Construir en paralelo, para facilitar la comparacion, un boxplot para los datos de cada pais e identificar los puntos extremos en cada uno de ellos"
   ]
  },
  {
   "cell_type": "code",
   "execution_count": 35,
   "metadata": {},
   "outputs": [
    {
     "data": {
      "image/png": "[encoded data removed]",
      "text/plain": [
       "<Figure size 640x480 with 1 Axes>"
      ]
     },
     "metadata": {},
     "output_type": "display_data"
    }
   ],
   "source": [
    "plt.boxplot(ciudades)\n",
    "\n",
    "plt.xlabel('Paises')\n",
    "plt.ylabel('Hab')\n",
    "plt.title('Poblacion (en cientos de miles)')\n",
    "\n",
    "plt.xticks([1, 2, 3, 4], headers)\n",
    "plt.show()"
   ]
  },
  {
   "cell_type": "markdown",
   "metadata": {},
   "source": [
    "[4.b] Comparar los centros de cada poblacion, sus dispersiones y su simetrıa. ¿Cual dirıa que es el paıs mas homogeneamente habitado?"
   ]
  },
  {
   "cell_type": "code",
   "execution_count": 36,
   "metadata": {},
   "outputs": [
    {
     "data": {
      "text/html": [
       "<div>\n",
       "<style scoped>\n",
       "    .dataframe tbody tr th:only-of-type {\n",
       "        vertical-align: middle;\n",
       "    }\n",
       "\n",
       "    .dataframe tbody tr th {\n",
       "        vertical-align: top;\n",
       "    }\n",
       "\n",
       "    .dataframe thead th {\n",
       "        text-align: right;\n",
       "    }\n",
       "</style>\n",
       "<table border=\"1\" class=\"dataframe\">\n",
       "  <thead>\n",
       "    <tr style=\"text-align: right;\">\n",
       "      <th></th>\n",
       "      <th>Argentina</th>\n",
       "      <th>EEUU</th>\n",
       "      <th>Holanda</th>\n",
       "      <th>Japon</th>\n",
       "    </tr>\n",
       "  </thead>\n",
       "  <tbody>\n",
       "    <tr>\n",
       "      <th>count</th>\n",
       "      <td>10.000000</td>\n",
       "      <td>10.000000</td>\n",
       "      <td>10.000000</td>\n",
       "      <td>10.000000</td>\n",
       "    </tr>\n",
       "    <tr>\n",
       "      <th>mean</th>\n",
       "      <td>6.461000</td>\n",
       "      <td>21.748000</td>\n",
       "      <td>3.365000</td>\n",
       "      <td>23.611000</td>\n",
       "    </tr>\n",
       "    <tr>\n",
       "      <th>std</th>\n",
       "      <td>8.340645</td>\n",
       "      <td>21.721691</td>\n",
       "      <td>2.837328</td>\n",
       "      <td>31.329551</td>\n",
       "    </tr>\n",
       "    <tr>\n",
       "      <th>min</th>\n",
       "      <td>2.440000</td>\n",
       "      <td>7.500000</td>\n",
       "      <td>1.290000</td>\n",
       "      <td>7.000000</td>\n",
       "    </tr>\n",
       "    <tr>\n",
       "      <th>25%</th>\n",
       "      <td>2.692500</td>\n",
       "      <td>8.915000</td>\n",
       "      <td>1.442500</td>\n",
       "      <td>8.527500</td>\n",
       "    </tr>\n",
       "    <tr>\n",
       "      <th>50%</th>\n",
       "      <td>3.275000</td>\n",
       "      <td>13.045000</td>\n",
       "      <td>1.735000</td>\n",
       "      <td>12.645000</td>\n",
       "    </tr>\n",
       "    <tr>\n",
       "      <th>75%</th>\n",
       "      <td>5.787500</td>\n",
       "      <td>23.597500</td>\n",
       "      <td>5.175000</td>\n",
       "      <td>18.255000</td>\n",
       "    </tr>\n",
       "    <tr>\n",
       "      <th>max</th>\n",
       "      <td>29.660000</td>\n",
       "      <td>77.810000</td>\n",
       "      <td>8.680000</td>\n",
       "      <td>110.210000</td>\n",
       "    </tr>\n",
       "  </tbody>\n",
       "</table>\n",
       "</div>"
      ],
      "text/plain": [
       "       Argentina       EEUU    Holanda       Japon\n",
       "count  10.000000  10.000000  10.000000   10.000000\n",
       "mean    6.461000  21.748000   3.365000   23.611000\n",
       "std     8.340645  21.721691   2.837328   31.329551\n",
       "min     2.440000   7.500000   1.290000    7.000000\n",
       "25%     2.692500   8.915000   1.442500    8.527500\n",
       "50%     3.275000  13.045000   1.735000   12.645000\n",
       "75%     5.787500  23.597500   5.175000   18.255000\n",
       "max    29.660000  77.810000   8.680000  110.210000"
      ]
     },
     "execution_count": 36,
     "metadata": {},
     "output_type": "execute_result"
    }
   ],
   "source": [
    "ciudades.describe()"
   ]
  },
  {
   "cell_type": "markdown",
   "metadata": {},
   "source": [
    "El pais mas homogeneamente poblado es aquel que:\n",
    "- Tiene menor desvio estandar\n",
    "- Tiene menos outliners\n",
    "\n",
    "Luego..."
   ]
  },
  {
   "cell_type": "code",
   "execution_count": 37,
   "metadata": {},
   "outputs": [
    {
     "data": {
      "text/plain": [
       "Holanda       2.837328\n",
       "Argentina     8.340645\n",
       "EEUU         21.721691\n",
       "Japon        31.329551\n",
       "dtype: float64"
      ]
     },
     "execution_count": 37,
     "metadata": {},
     "output_type": "execute_result"
    }
   ],
   "source": [
    "ciudades.std().sort_values()"
   ]
  },
  {
   "cell_type": "markdown",
   "metadata": {},
   "source": [
    "Holanda es el pais mas homogeneamente poblado."
   ]
  },
  {
   "cell_type": "markdown",
   "metadata": {},
   "source": [
    "## [5] Ejercicio Ingresos\n",
    "\n",
    "El archivo ingresos.txt contiene el ingreso mensual de un conjunto de 1000 trabajadores registrados de una ciudad, en miles de pesos."
   ]
  },
  {
   "cell_type": "code",
   "execution_count": 38,
   "metadata": {},
   "outputs": [
    {
     "data": {
      "text/html": [
       "<div>\n",
       "<style scoped>\n",
       "    .dataframe tbody tr th:only-of-type {\n",
       "        vertical-align: middle;\n",
       "    }\n",
       "\n",
       "    .dataframe tbody tr th {\n",
       "        vertical-align: top;\n",
       "    }\n",
       "\n",
       "    .dataframe thead th {\n",
       "        text-align: right;\n",
       "    }\n",
       "</style>\n",
       "<table border=\"1\" class=\"dataframe\">\n",
       "  <thead>\n",
       "    <tr style=\"text-align: right;\">\n",
       "      <th></th>\n",
       "      <th>salario</th>\n",
       "    </tr>\n",
       "  </thead>\n",
       "  <tbody>\n",
       "    <tr>\n",
       "      <th>0</th>\n",
       "      <td>15.00000</td>\n",
       "    </tr>\n",
       "    <tr>\n",
       "      <th>1</th>\n",
       "      <td>15.00000</td>\n",
       "    </tr>\n",
       "    <tr>\n",
       "      <th>2</th>\n",
       "      <td>15.00000</td>\n",
       "    </tr>\n",
       "    <tr>\n",
       "      <th>3</th>\n",
       "      <td>15.00000</td>\n",
       "    </tr>\n",
       "    <tr>\n",
       "      <th>4</th>\n",
       "      <td>15.00000</td>\n",
       "    </tr>\n",
       "    <tr>\n",
       "      <th>5</th>\n",
       "      <td>15.00000</td>\n",
       "    </tr>\n",
       "    <tr>\n",
       "      <th>6</th>\n",
       "      <td>44.92196</td>\n",
       "    </tr>\n",
       "    <tr>\n",
       "      <th>7</th>\n",
       "      <td>15.00000</td>\n",
       "    </tr>\n",
       "    <tr>\n",
       "      <th>8</th>\n",
       "      <td>304.91670</td>\n",
       "    </tr>\n",
       "  </tbody>\n",
       "</table>\n",
       "</div>"
      ],
      "text/plain": [
       "     salario\n",
       "0   15.00000\n",
       "1   15.00000\n",
       "2   15.00000\n",
       "3   15.00000\n",
       "4   15.00000\n",
       "5   15.00000\n",
       "6   44.92196\n",
       "7   15.00000\n",
       "8  304.91670"
      ]
     },
     "execution_count": 38,
     "metadata": {},
     "output_type": "execute_result"
    }
   ],
   "source": [
    "with open('datasets/p6/ingresos.txt', 'r') as file:\n",
    "    ingresos_lss:list = [(float(line[:-1])) for line in file.readlines()]\n",
    "\n",
    "ingresos:pd.DataFrame = pd.DataFrame(ingresos_lss, columns=['salario'])\n",
    "ingresos.head(9)"
   ]
  },
  {
   "cell_type": "markdown",
   "metadata": {},
   "source": [
    "[5.b] ¿Cual es el ingreso mınimo percibido por los trabajadores encuestados? Estimar la proporcion de los trabajadores de la ciudad que percibe el ingreso mınimo."
   ]
  },
  {
   "cell_type": "code",
   "execution_count": 39,
   "metadata": {},
   "outputs": [
    {
     "data": {
      "text/plain": [
       "15.0"
      ]
     },
     "execution_count": 39,
     "metadata": {},
     "output_type": "execute_result"
    }
   ],
   "source": [
    "ingreso_minimo = min(ingresos_lss)\n",
    "ingreso_minimo"
   ]
  },
  {
   "cell_type": "code",
   "execution_count": 40,
   "metadata": {},
   "outputs": [
    {
     "data": {
      "text/plain": [
       "0.461"
      ]
     },
     "execution_count": 40,
     "metadata": {},
     "output_type": "execute_result"
    }
   ],
   "source": [
    "len(ingresos[ingresos.salario == 15]) / len(ingresos)"
   ]
  },
  {
   "cell_type": "markdown",
   "metadata": {},
   "source": [
    "Alrededor de un 46% de trabajadores cobra el salario minimo ($15000)"
   ]
  },
  {
   "cell_type": "markdown",
   "metadata": {},
   "source": [
    "[5.c] Estimar el ingreso mensual que se necesita para pertenecer al 10% de trabajadores de la ciudad con ingresos mas altos."
   ]
  },
  {
   "cell_type": "code",
   "execution_count": 41,
   "metadata": {},
   "outputs": [
    {
     "data": {
      "text/plain": [
       "salario    240.54083\n",
       "Name: 0.9, dtype: float64"
      ]
     },
     "execution_count": 41,
     "metadata": {},
     "output_type": "execute_result"
    }
   ],
   "source": [
    "ingresos.quantile(0.9)"
   ]
  },
  {
   "cell_type": "markdown",
   "metadata": {},
   "source": [
    "Se necesita un salario de $240540,80 para pertenecer al 10% con mas ingresos."
   ]
  },
  {
   "cell_type": "markdown",
   "metadata": {},
   "source": [
    "[5.d] Calcular la media muestral, la mediana muestral y la media α-podada con $\\alpha=0.10$ (10 %)."
   ]
  },
  {
   "cell_type": "code",
   "execution_count": 42,
   "metadata": {},
   "outputs": [],
   "source": [
    "def media_alpha_podada(lss:list, alpha:float) -> float:\n",
    "    lss.sort()\n",
    "    cut_trims:int = int(alpha * len(lss))\n",
    "    trim_lss:list = lss[cut_trims:-cut_trims]\n",
    "    df = pd.DataFrame(trim_lss)\n",
    "    return list(df.mean())[0]"
   ]
  },
  {
   "cell_type": "code",
   "execution_count": 43,
   "metadata": {},
   "outputs": [
    {
     "name": "stdout",
     "output_type": "stream",
     "text": [
      "Media Muestral\n",
      "* Implementado:  87.17647990999995\n",
      "* Pandas:  87.17647991\n",
      "\n",
      "Mediana Muestral\n",
      "* Implementado:  18.473715\n",
      "* Pandas:  18.473715\n",
      "\n",
      "Media alpha-podada\n",
      "* Implementado:  49.9308686375\n",
      "* Scipy.stats:  49.9308686375\n"
     ]
    }
   ],
   "source": [
    "print(\"Media Muestral\")\n",
    "print(\"* Implementado: \", media_muestral(ingresos_lss))\n",
    "print(\"* Pandas: \", list(ingresos.mean())[0])\n",
    "\n",
    "print()\n",
    "print(\"Mediana Muestral\")\n",
    "print(\"* Implementado: \", mediana_muestral(ingresos_lss))\n",
    "print(\"* Pandas: \", list(ingresos.median())[0])\n",
    "\n",
    "print()\n",
    "print(\"Media alpha-podada\")\n",
    "print(\"* Implementado: \", media_alpha_podada(ingresos_lss, 0.1))\n",
    "print(\"* Scipy.stats: \", stats.trim_mean(ingresos, 0.1)[0])"
   ]
  },
  {
   "cell_type": "markdown",
   "metadata": {},
   "source": [
    "[5.e] Calcular el desvio estandar muestral y la distancia intercuartil."
   ]
  },
  {
   "cell_type": "code",
   "execution_count": 44,
   "metadata": {},
   "outputs": [
    {
     "data": {
      "text/plain": [
       "152.0336284840572"
      ]
     },
     "execution_count": 44,
     "metadata": {},
     "output_type": "execute_result"
    }
   ],
   "source": [
    "std = list(ingresos.std())[0]\n",
    "std"
   ]
  },
  {
   "cell_type": "code",
   "execution_count": 45,
   "metadata": {},
   "outputs": [
    {
     "data": {
      "text/plain": [
       "74.97330249999999"
      ]
     },
     "execution_count": 45,
     "metadata": {},
     "output_type": "execute_result"
    }
   ],
   "source": [
    "IQR = list(ingresos.quantile(0.75) - ingresos.quantile(0.25))[0]\n",
    "IQR"
   ]
  },
  {
   "cell_type": "markdown",
   "metadata": {},
   "source": [
    "[5.f] Realizar un histograma y un boxplot. ¿Cuales son las caracterısticas mas sobresalientes? ¿Hay outliers?"
   ]
  },
  {
   "cell_type": "code",
   "execution_count": 46,
   "metadata": {},
   "outputs": [
    {
     "data": {
      "image/png": "[encoded data removed]",
      "text/plain": [
       "<Figure size 640x480 with 1 Axes>"
      ]
     },
     "metadata": {},
     "output_type": "display_data"
    }
   ],
   "source": [
    "plt.hist(ingresos)\n",
    "plt.xlabel(\"Ingresos\")\n",
    "plt.ylabel(\"#Trabajadores\")\n",
    "plt.title(\"Histograma ingresos\")\n",
    "plt.show()"
   ]
  },
  {
   "cell_type": "code",
   "execution_count": 47,
   "metadata": {},
   "outputs": [
    {
     "data": {
      "image/png": "[encoded data removed]",
      "text/plain": [
       "<Figure size 640x480 with 1 Axes>"
      ]
     },
     "metadata": {},
     "output_type": "display_data"
    }
   ],
   "source": [
    "plt.boxplot(ingresos)\n",
    "plt.title(\"Boxplot de ingresos\")\n",
    "plt.ylabel(\"Salario\")\n",
    "plt.show()"
   ]
  },
  {
   "cell_type": "markdown",
   "metadata": {},
   "source": [
    "Mirando los graficos se puede ver que hay una mayoria con salarios entre 15 a 200 mil, con una mediana baja dentro de la IQR. \n",
    "\n",
    "Asi como tambien hay varios outliers que cobran mucho mas."
   ]
  },
  {
   "cell_type": "markdown",
   "metadata": {},
   "source": [
    "[5.f] ¿Cree que los datos podrıan provenir de una poblacion con distribucion normal?\n",
    "\n",
    "* No, tiene una forma mas similar a una distribucion con decaimiento exponencial $e^{-f(x)}$"
   ]
  },
  {
   "cell_type": "markdown",
   "metadata": {},
   "source": [
    "## [6] Ejercicio QQ-PLOTS"
   ]
  },
  {
   "cell_type": "markdown",
   "metadata": {},
   "source": [
    "[6.1]\n",
    "\n",
    "Generar muestras de tama˜no 25, 50 y 100 de una variable con distribucion normal. \n",
    "\n",
    "Construir QQ–plots para cada una de ellas. Repetir con diferentes semillas."
   ]
  },
  {
   "cell_type": "code",
   "execution_count": 62,
   "metadata": {},
   "outputs": [
    {
     "data": {
      "image/png": "[encoded data removed]",
      "text/plain": [
       "<Figure size 640x480 with 1 Axes>"
      ]
     },
     "metadata": {},
     "output_type": "display_data"
    },
    {
     "data": {
      "image/png": "[encoded data removed]",
      "text/plain": [
       "<Figure size 640x480 with 1 Axes>"
      ]
     },
     "metadata": {},
     "output_type": "display_data"
    }
   ],
   "source": [
    "for seed in [0,1]:\n",
    "    np.random.seed(seed)\n",
    "    sizes:list = [25, 50, 100]\n",
    "\n",
    "    muestras:list = []\n",
    "    for size in sizes:\n",
    "        muestras.append(np.random.normal(0, 1, size))\n",
    "\n",
    "    plt.boxplot(muestras)\n",
    "    plt.show()"
   ]
  },
  {
   "cell_type": "markdown",
   "metadata": {},
   "source": [
    "[6.b] Repetir [a] para una variable con distribucion $Γ(5,0.5)$"
   ]
  },
  {
   "cell_type": "code",
   "execution_count": 63,
   "metadata": {},
   "outputs": [
    {
     "data": {
      "image/png": "[encoded data removed]",
      "text/plain": [
       "<Figure size 640x480 with 1 Axes>"
      ]
     },
     "metadata": {},
     "output_type": "display_data"
    },
    {
     "data": {
      "image/png": "[encoded data removed]",
      "text/plain": [
       "<Figure size 640x480 with 1 Axes>"
      ]
     },
     "metadata": {},
     "output_type": "display_data"
    }
   ],
   "source": [
    "for seed in [0,1]:\n",
    "    np.random.seed(seed)\n",
    "    sizes:list = [25, 50, 100]\n",
    "\n",
    "    muestras:list = []\n",
    "    for size in sizes:\n",
    "        muestras.append(np.random.gamma(5, 0.5, size))\n",
    "\n",
    "    plt.boxplot(muestras)\n",
    "    plt.show()"
   ]
  },
  {
   "cell_type": "markdown",
   "metadata": {},
   "source": [
    "[6.c] Repetir para $Y=Z/U$ donde $Z$ ∼ $N(0, 1)$ y $U$ ∼ $U(0, 1)$ independientes."
   ]
  },
  {
   "cell_type": "code",
   "execution_count": 59,
   "metadata": {},
   "outputs": [
    {
     "data": {
      "image/png": "[encoded data removed]",
      "text/plain": [
       "<Figure size 640x480 with 1 Axes>"
      ]
     },
     "metadata": {},
     "output_type": "display_data"
    }
   ],
   "source": [
    "for seed in [0]:\n",
    "    np.random.seed(seed)\n",
    "    sizes:list = [25, 50, 100]\n",
    "\n",
    "    muestras:list = []\n",
    "    for size in sizes:\n",
    "        muestras.append(np.random.normal(0, 1, size) / np.random.uniform(0,1,size))\n",
    "\n",
    "    plt.boxplot(muestras)\n",
    "    plt.show()"
   ]
  },
  {
   "cell_type": "markdown",
   "metadata": {},
   "source": [
    "[6.d] Repetir [a] para una variable con distribucion uniforme.\n"
   ]
  },
  {
   "cell_type": "code",
   "execution_count": 61,
   "metadata": {},
   "outputs": [
    {
     "data": {
      "image/png": "[encoded data removed]",
      "text/plain": [
       "<Figure size 640x480 with 1 Axes>"
      ]
     },
     "metadata": {},
     "output_type": "display_data"
    },
    {
     "data": {
      "image/png": "[encoded data removed]",
      "text/plain": [
       "<Figure size 640x480 with 1 Axes>"
      ]
     },
     "metadata": {},
     "output_type": "display_data"
    }
   ],
   "source": [
    "for seed in [0,1]:\n",
    "    np.random.seed(seed)\n",
    "    sizes:list = [25, 50, 100]\n",
    "\n",
    "    muestras:list = []\n",
    "    for size in sizes:\n",
    "        muestras.append(np.random.uniform(0,1,size))\n",
    "\n",
    "    plt.boxplot(muestras)\n",
    "    plt.show()"
   ]
  },
  {
   "cell_type": "markdown",
   "metadata": {},
   "source": [
    "[6.e] Repetir [a] para una variable con distribucion exponencial.\n"
   ]
  },
  {
   "cell_type": "code",
   "execution_count": 66,
   "metadata": {},
   "outputs": [
    {
     "data": {
      "image/png": "[encoded data removed]",
      "text/plain": [
       "<Figure size 640x480 with 1 Axes>"
      ]
     },
     "metadata": {},
     "output_type": "display_data"
    }
   ],
   "source": [
    "for seed in [0]:\n",
    "    np.random.seed(seed)\n",
    "    sizes:list = [25, 50, 100]\n",
    "\n",
    "    muestras:list = []\n",
    "    for size in sizes:\n",
    "        muestras.append(np.random.exponential(2, size))\n",
    "\n",
    "    plt.boxplot(muestras)\n",
    "    plt.show()"
   ]
  },
  {
   "cell_type": "markdown",
   "metadata": {},
   "source": [
    "## [7] Ejercicio Metricas de Error\n",
    "\n",
    "Generar un conjunto de $n = 10$ datos provenientes de una distribucion cualquiera. \n",
    "\n",
    "Llamemoslos ${x_1, . . . , x_n}$."
   ]
  },
  {
   "cell_type": "code",
   "execution_count": null,
   "metadata": {},
   "outputs": [],
   "source": []
  }
 ],
 "metadata": {
  "kernelspec": {
   "display_name": "Python 3 (ipykernel)",
   "language": "python",
   "name": "python3"
  },
  "language_info": {
   "codemirror_mode": {
    "name": "ipython",
    "version": 3
   },
   "file_extension": ".py",
   "mimetype": "text/x-python",
   "name": "python",
   "nbconvert_exporter": "python",
   "pygments_lexer": "ipython3",
   "version": "3.10.4"
  }
 },
 "nbformat": 4,
 "nbformat_minor": 2
}
