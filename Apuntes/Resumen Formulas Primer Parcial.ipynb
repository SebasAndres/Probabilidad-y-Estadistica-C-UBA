{
  "cells": [
    {
      "attachments": {},
      "cell_type": "markdown",
      "metadata": {
        "id": "IKa-OMDKgPa6"
      },
      "source": [
        "# VARIABLES ALEATORIAS\n",
        "\n",
        "### Independencia\n",
        "\n",
        "A, B son eventos independientes ⇔ $P(A \\cap B ) = P(A) P(B)$\n",
        "\n",
        "### Bayes (Probabilidad Condicional)\n",
        "\n",
        "$P(A|B) = P(A \\cap B) / P(B)$\n",
        "\n",
        "$P(A \\cup B) = P(A) + P(B) - P(A \\cap B)$\n",
        "\n",
        "#### Distribucion Acumulada\n",
        "$ P (X <= a) = F_x(a) = ∫_{R_x}^a f(x) dx$ \n",
        "\n",
        "$ P (X >= a) = 1 - P(X < a)$\n",
        "\n",
        "\n",
        "### Caso discreto:\n",
        "\n",
        "$\\sum_{x \\in R_x}P(X=x) = 1$\n",
        "\n",
        "En discretos $ P (X < a) = P (X = a-1) + ... + P (X = 0)$,suponiendo que $R_x = {0,1,2,..,a-1, a, a+1,..., \\inf}$\n",
        "\n",
        "### Caso continuo:\n",
        "\n",
        "$\\int_{x \\in R_x}P(X=x) dx = 1$\n",
        "\n",
        "En continuos $ P (X <= a) = P (X < a)$.\n",
        "\n",
        "### Eventos no independientes\n",
        "\n",
        "Cuando nos piden la probabilidad de un evento relativo a una variable aleatoria X (ej: altura de la especie) condicional a otra variable aleatoria B (ej: sexo), debemos tomar en cuenta todos los casos:\n",
        "\n",
        "Ejemplo:\n",
        "$A = X>10$, $B = $ \"el individuo elegido es hembra\", $P(A)?$\n",
        "\n",
        "$P(A) = P(B)*P(X>10|B) + P(noB)*P(X>10|noB)$\n",
        "\n",
        "Con $P(noB) = 1 - P(B)$\n",
        "\n",
        "Para casos mas generales vale:\n",
        "\n",
        "$P(A) = \\sum_{B \\in R_B} P(B)*P(A|B)$"
      ]
    },
    {
      "attachments": {},
      "cell_type": "markdown",
      "metadata": {
        "id": "z8OCA3hBhnSt"
      },
      "source": [
        "# VECTORES ALEATORIOS $(X,Y)$\n",
        "\n",
        "#### Independencia:\n",
        "Prop.\n",
        "$(X_1, ..., X_n)$ es un vector n-dimensional de todas v.a. independientes ↔\n",
        "$P(X_1=x_1, ..., X_n=x_n) = ∏_{i=1}^{n}P_{X_i}(X_i=x_i)$\n",
        "\n",
        "### Funcion de densidad:\n",
        "Se llama funcion de densidad a la $f_{XY} : \\Re^2 -> [0,1]$ tal que:\n",
        "\n",
        "$\\int\\int_{\\Re^2} f_{XY}(x,y) dx dy = 1$\n",
        "\n",
        "Y las probabilidades marginales de $(X,Y)$ son: \n",
        "\n",
        "$f_x(x) = \\int_{y \\in R_y} f(X=x,y) dy$\n",
        "\n",
        "$f_y(y) = \\int_{x \\in R_x} f(x,Y=y) dx$\n",
        "\n",
        "En el caso discreto queda:\n",
        "\n",
        "$P_x(x) = ∑_{y \\in R_y} P(x,Y=y)*P_y(y)$\n",
        "\n",
        "$P_y(y) = ∑_{x \\in R_x} P(X=x,y)*P_x(x)$\n",
        "\n",
        "> Tip para ejercicios: Para hallar la marginal de la variable X en en una region R, hacer cortes en el eje x (verticales). En el caso de hallar la marginal de Y, hacer cortes horizontales."
      ]
    },
    {
      "attachments": {},
      "cell_type": "markdown",
      "metadata": {
        "id": "u1BMCv-tcPS7"
      },
      "source": [
        "# ESPERANZA\n",
        "\n",
        "$ E (X) = \\sum_{\\Re} x f_x(x)$, para variables aleatorias discretas.\n",
        "\n",
        "$ E (ϕ(x)) = \\sum_{ℜ} ϕ(x) f(x)$\n",
        "\n",
        "$ E (X) = \\int_{ℜ} x f_x(x)dx$, para variables aleatorias continuas.\n",
        "\n",
        "$ E (ϕ(x)) = \\int_{ℜ} ϕ(x) f(x) dx$\n",
        "\n",
        "### Propiedades ($X,Y$ v.a y $a,b\\in ℜ$):\n",
        "$E(aX) = aE(X)$\n",
        "\n",
        "$E(a) = a$ \n",
        "\n",
        "$⇒ E(aX+b) = aE(X)+b$\n",
        "\n",
        "$E(X+Y) = E(X) + E(Y)$ con X, Y v.\n",
        "\n",
        "$E(XY) = \\int \\int xy f_{xy}(x,y) dA$"
      ]
    },
    {
      "attachments": {},
      "cell_type": "markdown",
      "metadata": {
        "id": "apP1wAIRel9D"
      },
      "source": [
        "# VARIANZA\n",
        "\n",
        "$ V (X) = E (x - \\mu_X) = E(X^2) - E(X)^2$\n",
        "\n",
        "#### Caso Discreto:\n",
        "$V (X) = \\sum_{R_X} (X-\\mu_x)^2 f(x) dx$\n",
        "\n",
        "#### Caso Continuo:\n",
        "$V (X) = \\int_{R_X} (X-\\mu_x)^2 f(x) dx$\n",
        "\n",
        "### Propiedades ($X,Y$ v.a y $a,b\\in ℜ$):\n",
        "$V(aX) = a^2V(X)$\n",
        "\n",
        "$V(a) = 0$ \n",
        "\n",
        "$V(X+Y) = V(X) + V(Y) + 2 Cov(X,Y)$ "
      ]
    },
    {
      "attachments": {},
      "cell_type": "markdown",
      "metadata": {
        "id": "ji8fLZOif_37"
      },
      "source": [
        "# COVARIANZA\n",
        "\n",
        "$Cov(X,Y)=E[XY] - E[X]E[Y]$"
      ]
    },
    {
      "attachments": {},
      "cell_type": "markdown",
      "metadata": {
        "id": "4AOuESJQrRgX"
      },
      "source": [
        "> Tips de ejercicios: graficar regiones dadas\n",
        "$P(X+Y>1)=\\int_0^1\\int_0^{1-x}f_{xy}(x,y)dydx$\n",
        "\n",
        "\n"
      ]
    },
    {
      "attachments": {},
      "cell_type": "markdown",
      "metadata": {},
      "source": [
        "# Correlacion lineal\n",
        "$P_{XY}=Cov(X,Y)/\\delta_x\\delta_y$\n"
      ]
    },
    {
      "attachments": {},
      "cell_type": "markdown",
      "metadata": {},
      "source": [
        "# Convolucion para la suma de variables aleatorias \n",
        "\n",
        "Sean $X, Y$ dos variables aleatorias con densidad $f_{xy}$, \n",
        "\n",
        "$P(X+Y = k) = \\int_0^k f_{xy}(u, k-u) du$,\n",
        "\n",
        "suponiendo min(X+Y).\n",
        "\n",
        "Es decir es la convolucion de $f_x$ y $f_y$ (notacion $f * g$) suponiendo independencia entre $X$ e $Y$."
      ]
    },
    {
      "attachments": {},
      "cell_type": "markdown",
      "metadata": {},
      "source": [
        "# Desigualdad Tchebyshev\n",
        "\n",
        "Sea $X$ una variable aleatoria con esperanza y varianza finitas:\n",
        "\n",
        "$P({|X-E(X)|>\\delta})<=\\frac{Var(X)}{\\delta^2}$\n",
        "\n",
        "#### Caso particular (Teorema J. Bernoulli):\n",
        "\n",
        "$S_n = X_1 + ... + X_n$ ~ $Bi(n,p)$\n",
        "\n",
        "$E[S_n]=np$, $Var[S_n]=npq$\n",
        "\n",
        "$f_n = \\frac{S_n}{n}$, frecuencia relativa\n",
        "\n",
        "> Teo: $\\lim n \\rightarrow +\\inf, P({|f_n - p| > \\delta})\\rightarrow 0$\n",
        "\n",
        "Tambien vale: \n",
        "\n",
        "$P({|f_n - p| > \\delta}) <= \\frac{Var(f_n)}{\\delta^2} = \\frac{pq}{n\\delta^2}$\n",
        "\n"
      ]
    },
    {
      "attachments": {},
      "cell_type": "markdown",
      "metadata": {},
      "source": [
        "# Ley de Grandes Numeros\n",
        "\n",
        "Sea $(X_i)$ una sucesion de v.a i.i.d con $E(X)=\\mu$ y $Var(X)=\\sigma^2$\n",
        "\n",
        "$\\frac{\\sum_{i=1}^{n} X_i}{n} = \\hat{X} \\rightarrow \\mu$"
      ]
    },
    {
      "attachments": {},
      "cell_type": "markdown",
      "metadata": {},
      "source": [
        "# Teorema Central del Limite\n",
        "\n",
        "Sean $X_1,...,X_n$ v.a. i.i.d con $E(X_i) = μ$ y $V(X_i)=σ^2 <\\inf$ , entonces si n es suficientemente grande:\n",
        "\n",
        "$\\frac{(\\sum X_i)-n\\mu}{\\sqrt{n}\\delta}$ ~ $N(0,1)$"
      ]
    },
    {
      "attachments": {},
      "cell_type": "markdown",
      "metadata": {},
      "source": [
        "# Funcion generadora de momentos:\n",
        "\n",
        "Def: Sea $X$ una va, el momento de orden $k$ de $X$ se define como $E(X^k)$, siempre que la experanza exista.\n",
        "\n",
        "Y vale: \n",
        "\n",
        "$E(X) = \\mu$, 1er momento: posicion\n",
        "\n",
        "$E(X^2) = \\sigma^2 + \\mu^2$, 2do momento: relacionado a una medida de dispersion\n",
        "\n",
        "$E(X^3)$, 3er momento: vinculado una medida de la asimetria\n",
        "\n",
        "$E(X^4)$, 4to momento: vinculado ala kurtosis\n",
        "\n",
        "La funcion generadora de momentos de una v.a. $X$ es $M_x(t) = E[e^{tX}]$, quedando en cada caso:\n",
        "\n",
        "#### Caso discreto:\n",
        "$M_x(t) = \\sum_{X \\in R_x} e^{tX} p_X(x)$\n",
        "\n",
        "#### Caso continuo:\n",
        "$M_x(t) = \\int_{X \\in R_x} e^{tX} pf_X(x) dx$\n",
        "\n",
        "Se denomina función generadora de momentos porque los momentos de X pueden ser obtenidos derivando esta función y evaluando la derivada en t = 0, tal como lo establece el siguiente teorema.\n",
        "\n",
        "Teo: $E[X^n]=\\frac{\\partial^n}{\\partial t^n} M_X(t) |_{t=0}$"
      ]
    }
  ],
  "metadata": {
    "colab": {
      "provenance": []
    },
    "kernelspec": {
      "display_name": "Python 3",
      "name": "python3"
    },
    "language_info": {
      "name": "python"
    }
  },
  "nbformat": 4,
  "nbformat_minor": 0
}
