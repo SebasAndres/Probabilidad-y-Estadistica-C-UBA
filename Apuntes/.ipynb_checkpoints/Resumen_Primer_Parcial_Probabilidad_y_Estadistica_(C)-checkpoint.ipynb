{
 "cells": [
  {
   "cell_type": "markdown",
   "metadata": {
    "id": "GFN6eViPo6E9"
   },
   "source": []
  },
  {
   "cell_type": "markdown",
   "metadata": {
    "id": "IKa-OMDKgPa6"
   },
   "source": [
    "# VARIABLES ALEATORIAS\n",
    "\n",
    "### Independencia\n",
    "\n",
    "A, B son eventos independientes ⇔ $P(A \\cap B ) = P(A) P(B)$\n",
    "\n",
    "### Bayes (Probabilidad Condicional)\n",
    "\n",
    "$P(A|B) = P(A \\cap B) / P(B)$\n",
    "\n",
    "$P(A \\cup B) = P(A) + P(B) - P(A \\cap B)$\n",
    "\n",
    "#### Distribucion Acumulada\n",
    "$ P (X <= a) = F_x(a) = ∫_{R_x}^a f(x) dx$ \n",
    "\n",
    "$ P (X >= a) = 1 - P(X < a)$\n",
    "\n",
    "\n",
    "### Caso discreto:\n",
    "\n",
    "$\\sum_{x \\in R_x}P(X=x) = 1$\n",
    "\n",
    "En discretos $ P (X < a) = P (X = a-1) + ... + P (X = 0)$,suponiendo que $R_x = {0,1,2,..,a-1, a, a+1,..., \\inf}$\n",
    "\n",
    "### Caso continuo:\n",
    "\n",
    "$\\int_{x \\in R_x}P(X=x) dx = 1$\n",
    "\n",
    "En continuos $ P (X <= a) = P (X < a)$.\n",
    "\n",
    "### Eventos no independientes\n",
    "\n",
    "Cuando nos piden la probabilidad de un evento relativo a una variable aleatoria X (ej: altura de la especie) condicional a otra variable aleatoria B (ej: sexo), debemos tomar en cuenta todos los casos:\n",
    "\n",
    "Ejemplo:\n",
    "$A = X>10$, $B = $ \"el individuo elegido es hembra\", $P(A)?$\n",
    "\n",
    "$P(A) = P(B)*P(X>10|B) + P(noB)*P(X>10|noB)$\n",
    "\n",
    "Con $P(noB) = 1 - P(B)$\n",
    "\n",
    "Para casos mas generales vale:\n",
    "\n",
    "$P(A) = \\sum_{B \\in R_B} P(B)*P(A|B)$"
   ]
  },
  {
   "cell_type": "markdown",
   "metadata": {
    "id": "z8OCA3hBhnSt"
   },
   "source": [
    "# VECTORES ALEATORIOS $(X,Y)$\n",
    "\n",
    "#### Independencia:\n",
    "Prop.\n",
    "$(X_1, ..., X_n)$ es un vector n-dimensional de todas v.a. independientes ↔\n",
    "$P(X_1=x_1, ..., X_n=x_n) = ∏_{i=1}^{n}P_{X_i}(X_i=x_i)$\n",
    "\n",
    "### Funcion de densidad:\n",
    "Se llama funcion de densidad a la $f_{XY} : \\Re^2 -> [0,1]$ tal que:\n",
    "\n",
    "$\\int\\int_{\\Re^2} f_{XY}(x,y) dx dy = 1$\n",
    "\n",
    "Y las probabilidades marginales de $(X,Y)$ son: \n",
    "\n",
    "$f_x(x) = \\int_{y \\in R_y} f(X=x,y) dy$\n",
    "\n",
    "$f_y(y) = \\int_{x \\in R_x} f(x,Y=y) dx$\n",
    "\n",
    "En el caso discreto queda:\n",
    "\n",
    "$P_x(x) = ∑_{y \\in R_y} P(x,Y=y)*P_y(y)$\n",
    "\n",
    "$P_y(y) = ∑_{x \\in R_x} P(X=x,y)*P_x(x)$\n",
    "\n",
    "> Tip para ejercicios: Para hallar la marginal de la variable X en en una region R, hacer cortes en el eje x (verticales). En el caso de hallar la marginal de Y, hacer cortes horizontales."
   ]
  },
  {
   "cell_type": "markdown",
   "metadata": {
    "id": "u1BMCv-tcPS7"
   },
   "source": [
    "## ESPERANZA\n",
    "\n",
    "$ E (X) = \\sum_{\\Re} x f_x(x)$, para variables aleatorias discretas.\n",
    "\n",
    "$ E (ϕ(x)) = \\sum_{ℜ} ϕ(x) f(x)$\n",
    "\n",
    "$ E (X) = \\int_{ℜ} x P_x(x)dx$, para variables aleatorias continuas.\n",
    "\n",
    "$ E (ϕ(x)) = \\int_{ℜ} ϕ(x) f(x) dx$\n",
    "\n",
    "### Propiedades ($X,Y$ v.a y $a,b\\in ℜ$):\n",
    "$E(aX) = aE(X)$\n",
    "\n",
    "$E(a) = a$ \n",
    "\n",
    "$⇒ E(aX+b) = aE(X)+b$\n",
    "\n",
    "$E(X+Y) = E(X) + E(Y)$ con X, Y v.a\n",
    "\n",
    "$X, Y$ independientes $\\rightarrow E(XY) = E(X)E(Y)$"
   ]
  },
  {
   "cell_type": "markdown",
   "metadata": {
    "id": "apP1wAIRel9D"
   },
   "source": [
    "## VARIANZA\n",
    "\n",
    "$ V (X) = E (x - \\mu_X) = E(X^2) - E(X)^2$\n",
    "\n",
    "#### Caso Discreto:\n",
    "$V (X) = \\sum_{R_X} (X-\\mu_x)^2 f(x) dx$\n",
    "\n",
    "#### Caso Continuo:\n",
    "$V (X) = \\int_{R_X} (X-\\mu_x)^2 f(x) dx$\n",
    "\n",
    "### Propiedades ($X,Y$ v.a y $a,b\\in ℜ$):\n",
    "$V(aX) = a^2V(X)$\n",
    "\n",
    "$V(a) = 0$ \n",
    "\n",
    "$V(X+Y) = V(X) + V(Y) + 2 Cov(X,Y)$ "
   ]
  },
  {
   "cell_type": "markdown",
   "metadata": {
    "id": "ji8fLZOif_37"
   },
   "source": [
    "### COVARIANZA\n",
    "\n",
    "$Cov(X,Y)=E[XY] - E[X]E[Y]$\n",
    "\n",
    "$X,Y$ independientes $\\rightarrow Cov(X,Y) = 0$\n",
    "\n",
    "$Cov(X,X) = Var(X)$ \n",
    "\n",
    "$Cov(X,a) = 0$\n",
    "\n",
    "$Cov(aX,bY) = abCov(X,Y)$"
   ]
  },
  {
   "cell_type": "markdown",
   "metadata": {
    "id": "4AOuESJQrRgX"
   },
   "source": [
    "> Tips de ejercicios: graficar regiones dadas\n",
    "$P(X+Y>1)=\\int_0^1\\int_0^{1-x}f_{xy}(x,y)dydx$\n",
    "\n",
    "\n"
   ]
  },
  {
   "cell_type": "markdown",
   "metadata": {},
   "source": [
    "## Distribucion Normal\n",
    "\n",
    "Sea $X$ ~ $N(\\mu, \\sigma²)$ \n",
    "\n",
    "$F_x(x) = \\int_{0}^{x} \\frac{1}{\\sigma \\sqrt{2\\pi}}exp(-\\frac{1}{2}(\\frac{x-\\mu}{\\sigma})^2)$\n",
    "\n",
    "Pero tambien vale:\n",
    "$F_x(x) = F_z(\\frac{x-\\mu}{\\sigma}) = \\phi(\\frac{x-\\mu}{\\sigma})$\n",
    "\n",
    "Con $Z$ ~ $N(0,1)$"
   ]
  },
  {
   "cell_type": "markdown",
   "metadata": {},
   "source": [
    "## Distribucion Multinomial\n",
    "\n",
    "Se dice que $M$ ~ $(N, X_1, ..., X_k)$ es distribucion multinomial cuando de $N$ ensayos hay $k$ resultados posibles con probabilidad $X_k$. \n",
    "\n",
    "La probabilidad conjunta de $M$ es:\n",
    "\n",
    "$P(X_1=x_1, ..., X_k=x_k) = \\frac{N!}{\\prod_{i=1}^{k}x_k!}\\prod_{i=1}^{k}(X_k)^{x_k}$\n"
   ]
  },
  {
   "cell_type": "markdown",
   "metadata": {},
   "source": [
    "## Esperanza de Maximos o Minimos:\n",
    "\n",
    "$T = max(X_1, ..., X_k)$\n",
    "\n",
    "Sean (X_1, ..., X_k) v.a i.i.d $\\rightarrow$ \n",
    "\n",
    "Tiene distribucion:\n",
    "\n",
    "$F_T=P(T<t)=P(max(X_1,...,X_k)<t)=P(\\cap_{i=1}^{k}P(x_i<t)) = \\prod_{i=1}^{k}Fx(t) = [Fx(t)]^k$\n",
    "\n",
    "Luego, su densidad es:\n",
    "\n",
    "$f_t(t) = F_T´(t) = k[Fx(t)]^{k-1}f_x(t)$\n",
    "\n",
    "Y la esperanza se calcula como:\n",
    "\n",
    "$E(t) =  \\int_{Rx} t f_t(t) dx$\n"
   ]
  },
  {
   "cell_type": "markdown",
   "metadata": {},
   "source": [
    "#### Ej: Probar que suma de binomiales da binomial\n",
    "\n",
    "$X$ ~ $Bi(n,p)$,\n",
    "\n",
    "$Y$ ~ $Bi(m,p)$\n",
    "\n",
    "$X+Y$ ~ $Bi(n+m,p)$\n",
    "\n",
    "Dem:\n",
    "\n",
    "$F_{X+Y}(t) = P(X+Y<t) = \\sum_{i=0}^{t} P(X=i, Y=t-i) = \\sum_{i=0}^{t} P(X=i)P(Y=t-i)$"
   ]
  },
  {
   "cell_type": "markdown",
   "metadata": {},
   "source": []
  }
 ],
 "metadata": {
  "colab": {
   "provenance": []
  },
  "kernelspec": {
   "display_name": "Python 3 (ipykernel)",
   "language": "python",
   "name": "python3"
  },
  "language_info": {
   "codemirror_mode": {
    "name": "ipython",
    "version": 3
   },
   "file_extension": ".py",
   "mimetype": "text/x-python",
   "name": "python",
   "nbconvert_exporter": "python",
   "pygments_lexer": "ipython3",
   "version": "3.10.6"
  }
 },
 "nbformat": 4,
 "nbformat_minor": 1
}
