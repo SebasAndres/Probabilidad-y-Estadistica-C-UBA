{
  "nbformat": 4,
  "nbformat_minor": 0,
  "metadata": {
    "colab": {
      "provenance": []
    },
    "kernelspec": {
      "name": "python3",
      "display_name": "Python 3"
    },
    "language_info": {
      "name": "python"
    }
  },
  "cells": [
    {
      "cell_type": "markdown",
      "source": [],
      "metadata": {
        "id": "GFN6eViPo6E9"
      }
    },
    {
      "cell_type": "markdown",
      "source": [
        "# VARIABLES ALEATORIAS\n",
        "\n",
        "### Independencia\n",
        "\n",
        "A, B son eventos independientes ⇔ $P(A \\cap B ) = P(A) P(B)$\n",
        "\n",
        "### Bayes (Probabilidad Condicional)\n",
        "\n",
        "$P(A|B) = P(A \\cap B) / P(B)$\n",
        "\n",
        "$P(A \\cup B) = P(A) + P(B) - P(A \\cap B)$\n",
        "\n",
        "#### Distribucion Acumulada\n",
        "$ P (X <= a) = F_x(a) = ∫_{R_x}^a f(x) dx$ \n",
        "\n",
        "$ P (X >= a) = 1 - P(X < a)$\n",
        "\n",
        "\n",
        "### Caso discreto:\n",
        "\n",
        "$\\sum_{x \\in R_x}P(X=x) = 1$\n",
        "\n",
        "En discretos $ P (X < a) = P (X = a-1) + ... + P (X = 0)$,suponiendo que $R_x = {0,1,2,..,a-1, a, a+1,..., \\inf}$\n",
        "\n",
        "### Caso continuo:\n",
        "\n",
        "$\\int_{x \\in R_x}P(X=x) dx = 1$\n",
        "\n",
        "En continuos $ P (X <= a) = P (X < a)$.\n",
        "\n",
        "### Eventos no independientes\n",
        "\n",
        "Cuando nos piden la probabilidad de un evento relativo a una variable aleatoria X (ej: altura de la especie) condicional a otra variable aleatoria B (ej: sexo), debemos tomar en cuenta todos los casos:\n",
        "\n",
        "Ejemplo:\n",
        "$A = X>10$, $B = $ \"el individuo elegido es hembra\", $P(A)?$\n",
        "\n",
        "$P(A) = P(B)*P(X>10|B) + P(noB)*P(X>10|noB)$\n",
        "\n",
        "Con $P(noB) = 1 - P(B)$\n",
        "\n",
        "Para casos mas generales vale:\n",
        "\n",
        "$P(A) = \\sum_{B \\in R_B} P(B)*P(A|B)$"
      ],
      "metadata": {
        "id": "IKa-OMDKgPa6"
      }
    },
    {
      "cell_type": "markdown",
      "source": [
        "# VECTORES ALEATORIOS $(X,Y)$\n",
        "\n",
        "#### Independencia:\n",
        "Prop.\n",
        "$(X_1, ..., X_n)$ es un vector n-dimensional de todas v.a. independientes ↔\n",
        "$P(X_1=x_1, ..., X_n=x_n) = ∏_{i=1}^{n}P_{X_i}(X_i=x_i)$\n",
        "\n",
        "### Funcion de densidad:\n",
        "Se llama funcion de densidad a la $f_{XY} : \\Re^2 -> [0,1]$ tal que:\n",
        "\n",
        "$\\int\\int_{\\Re^2} f_{XY}(x,y) dx dy = 1$\n",
        "\n",
        "Y las probabilidades marginales de $(X,Y)$ son: \n",
        "\n",
        "$f_x(x) = \\int_{y \\in R_y} f(X=x,y) dy$\n",
        "\n",
        "$f_y(y) = \\int_{x \\in R_x} f(x,Y=y) dx$\n",
        "\n",
        "En el caso discreto queda:\n",
        "\n",
        "$P_x(x) = ∑_{y \\in R_y} P(x,Y=y)*P_y(y)$\n",
        "\n",
        "$P_y(y) = ∑_{x \\in R_x} P(X=x,y)*P_x(x)$\n",
        "\n",
        "> Tip para ejercicios: Para hallar la marginal de la variable X en en una region R, hacer cortes en el eje x (verticales). En el caso de hallar la marginal de Y, hacer cortes horizontales."
      ],
      "metadata": {
        "id": "z8OCA3hBhnSt"
      }
    },
    {
      "cell_type": "markdown",
      "source": [
        "## ESPERANZA\n",
        "\n",
        "$ E (X) = \\sum_{\\Re} x f_x(x)$, para variables aleatorias discretas.\n",
        "\n",
        "$ E (ϕ(x)) = \\sum_{ℜ} ϕ(x) f(x)$\n",
        "\n",
        "$ E (X) = \\int_{ℜ} x f_x(x)dx$, para variables aleatorias continuas.\n",
        "\n",
        "$ E (ϕ(x)) = \\int_{ℜ} ϕ(x) f(x) dx$\n",
        "\n",
        "### Propiedades ($X,Y$ v.a y $a,b\\in ℜ$):\n",
        "$E(aX) = aE(X)$\n",
        "\n",
        "$E(a) = a$ \n",
        "\n",
        "$⇒ E(aX+b) = aE(X)+b$\n",
        "\n",
        "$E(X+Y) = E(X) + E(Y)$ con X, Y v.a"
      ],
      "metadata": {
        "id": "u1BMCv-tcPS7"
      }
    },
    {
      "cell_type": "markdown",
      "source": [
        "## VARIANZA\n",
        "\n",
        "$ V (X) = E (x - \\mu_X) = E(X^2) - E(X)^2$\n",
        "\n",
        "#### Caso Discreto:\n",
        "$V (X) = \\sum_{R_X} (X-\\mu_x)^2 f(x) dx$\n",
        "\n",
        "#### Caso Continuo:\n",
        "$V (X) = \\int_{R_X} (X-\\mu_x)^2 f(x) dx$\n",
        "\n",
        "### Propiedades ($X,Y$ v.a y $a,b\\in ℜ$):\n",
        "$V(aX) = a^2V(X)$\n",
        "\n",
        "$V(a) = 0$ \n",
        "\n",
        "$V(X+Y) = V(X) + V(Y) + 2 Cov(X,Y)$ "
      ],
      "metadata": {
        "id": "apP1wAIRel9D"
      }
    },
    {
      "cell_type": "markdown",
      "source": [
        "### COVARIANZA\n",
        "\n",
        "$Cov(X,Y)=E[XY] - E[X]E[Y]$"
      ],
      "metadata": {
        "id": "ji8fLZOif_37"
      }
    },
    {
      "cell_type": "markdown",
      "source": [
        "> Tips de ejercicios: graficar regiones dadas\n",
        "$P(X+Y>1)=\\int_0^1\\int_0^{1-x}f_{xy}(x,y)dydx$\n",
        "\n",
        "\n"
      ],
      "metadata": {
        "id": "4AOuESJQrRgX"
      }
    }
  ]
}